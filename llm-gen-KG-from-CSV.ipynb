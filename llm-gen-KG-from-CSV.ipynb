{
  "cells": [
    {
      "cell_type": "markdown",
      "source": [
        "# Generating a Draft Graph Data Model with LLM Assistance\n",
        "This notebook demonstrates a workflow and LLM prompts to generate a **draft** graph data model from tabular data in a .csv file. The goal is to assist a developer or business owner who is new to graphs in Neo4j identify in their tabular data:\n",
        "* Nodes and their properties\n",
        "* Relationships and their properties\n",
        "\n",
        "If an LLM can analyze your data and propose a \"80% solution\" this can greatly accelerate the development of an initial POC and time-to-value. Given that Neo4j is schemaless, it is relativley easy to update the schema as you are building the solution.  \n",
        "\n",
        "*As always, be sure to verify any output from an LLM especially where it can impact a production system. While this notebook focuses on genrating ideas, for any code or technical details related to Neo4j always reference official Neo4j documentation.*\n",
        "\n",
        "\n",
        "\n"
      ],
      "metadata": {
        "id": "7aZWXpbf0Eph"
      },
      "id": "7aZWXpbf0Eph"
    },
    {
      "cell_type": "markdown",
      "metadata": {
        "id": "7ca925a5-9d1c-427b-9a0b-462cce121b19"
      },
      "source": [
        "# Import Libraries"
      ],
      "id": "7ca925a5-9d1c-427b-9a0b-462cce121b19"
    },
    {
      "cell_type": "markdown",
      "source": [
        "## General Libraries"
      ],
      "metadata": {
        "id": "JST1Fv4629bJ"
      },
      "id": "JST1Fv4629bJ"
    },
    {
      "cell_type": "code",
      "execution_count": 26,
      "metadata": {
        "id": "00a05298-dfd8-4159-82aa-801aa679e7ee",
        "executionInfo": {
          "status": "ok",
          "timestamp": 1704991819904,
          "user_tz": 360,
          "elapsed": 134,
          "user": {
            "displayName": "",
            "userId": ""
          }
        }
      },
      "outputs": [],
      "source": [
        "# core libraries\n",
        "import os\n",
        "import time\n",
        "import logging\n",
        "import numpy as np\n",
        "import pandas as pd\n",
        "\n",
        "pd.set_option('display.max_columns', None)\n",
        "pd.set_option('display.max_rows', None)\n",
        "pd.set_option('display.max_colwidth', None)\n",
        "\n",
        "import json\n",
        "import seaborn as sns\n",
        "import matplotlib.pyplot as plt\n",
        "import re\n",
        "import io\n",
        "\n",
        "# library to protect secrets\n",
        "import getpass"
      ],
      "id": "00a05298-dfd8-4159-82aa-801aa679e7ee"
    },
    {
      "cell_type": "code",
      "execution_count": 3,
      "metadata": {
        "id": "eaeb0743-2ed5-44c9-9276-63c388bef2ba",
        "executionInfo": {
          "status": "ok",
          "timestamp": 1704990399998,
          "user_tz": 360,
          "elapsed": 1,
          "user": {
            "displayName": "",
            "userId": ""
          }
        }
      },
      "outputs": [],
      "source": [
        "# libraries to display GCP LLM output\n",
        "from IPython.display import Image, Markdown, display"
      ],
      "id": "eaeb0743-2ed5-44c9-9276-63c388bef2ba"
    },
    {
      "cell_type": "code",
      "source": [
        "# limit warnings\n",
        "import warnings\n",
        "warnings.filterwarnings(\"ignore\")"
      ],
      "metadata": {
        "id": "PLg6ZrI23M0S",
        "executionInfo": {
          "status": "ok",
          "timestamp": 1704990399998,
          "user_tz": 360,
          "elapsed": 1,
          "user": {
            "displayName": "",
            "userId": ""
          }
        }
      },
      "execution_count": 4,
      "outputs": [],
      "id": "PLg6ZrI23M0S"
    },
    {
      "cell_type": "markdown",
      "source": [
        "## GCP Libraries"
      ],
      "metadata": {
        "id": "8xSZ6BuP2_vC"
      },
      "id": "8xSZ6BuP2_vC"
    },
    {
      "cell_type": "code",
      "source": [
        "# # the following may be necessary\n",
        "# # be sure to re-start your runtime after running the updates\n",
        "# !pip install vertexai --upgrade\n",
        "# !pip install google-cloud-aiplatform --upgrade\n",
        "\n",
        "# !pip install google --upgrade\n",
        "# !pip install google.cloud --upgrade\n",
        "# !pip install --upgrade google-cloud-language"
      ],
      "metadata": {
        "id": "hewPt0T-KIKT",
        "executionInfo": {
          "status": "ok",
          "timestamp": 1704990401603,
          "user_tz": 360,
          "elapsed": 126,
          "user": {
            "displayName": "",
            "userId": ""
          }
        }
      },
      "execution_count": 5,
      "outputs": [],
      "id": "hewPt0T-KIKT"
    },
    {
      "cell_type": "code",
      "source": [
        "# GCP and Colab authentication\n",
        "from google.colab import auth as google_auth\n",
        "google_auth.authenticate_user()"
      ],
      "metadata": {
        "id": "fAl5F1K2F2Xv",
        "executionInfo": {
          "status": "ok",
          "timestamp": 1704990402191,
          "user_tz": 360,
          "elapsed": 2,
          "user": {
            "displayName": "",
            "userId": ""
          }
        }
      },
      "execution_count": 6,
      "outputs": [],
      "id": "fAl5F1K2F2Xv"
    },
    {
      "cell_type": "code",
      "execution_count": 7,
      "metadata": {
        "id": "7631b9f1-55b7-4f1b-9cd5-0c93bf47d9fa",
        "executionInfo": {
          "status": "ok",
          "timestamp": 1704990462399,
          "user_tz": 360,
          "elapsed": 58541,
          "user": {
            "displayName": "",
            "userId": ""
          }
        }
      },
      "outputs": [],
      "source": [
        "# gcp and vertex AI\n",
        "from google.cloud import aiplatform\n",
        "\n",
        "import vertexai\n",
        "from vertexai.preview.language_models import TextGenerationModel, ChatModel\n",
        "from vertexai.preview.generative_models import GenerativeModel"
      ],
      "id": "7631b9f1-55b7-4f1b-9cd5-0c93bf47d9fa"
    },
    {
      "cell_type": "markdown",
      "source": [
        "## Other Libraries"
      ],
      "metadata": {
        "id": "UsPh8UZe3EXx"
      },
      "id": "UsPh8UZe3EXx"
    },
    {
      "cell_type": "code",
      "source": [
        "# # ! pip install openai --upgrade\n",
        "# from openai import OpenAI"
      ],
      "metadata": {
        "id": "0IsehP9a-Taw"
      },
      "execution_count": null,
      "outputs": [],
      "id": "0IsehP9a-Taw"
    },
    {
      "cell_type": "markdown",
      "source": [
        "# Authenticate to GCP\n",
        "This will enable us to use additional VertexAI features."
      ],
      "metadata": {
        "id": "RJ7BlyGXbFBP"
      },
      "id": "RJ7BlyGXbFBP"
    },
    {
      "cell_type": "code",
      "source": [
        "# project ID if using GCP\n",
        "PROJECT_ID = getpass.getpass()"
      ],
      "metadata": {
        "id": "5hiF1xfNbHY4",
        "executionInfo": {
          "status": "ok",
          "timestamp": 1704990633358,
          "user_tz": 360,
          "elapsed": 2294,
          "user": {
            "displayName": "",
            "userId": ""
          }
        },
        "colab": {
          "base_uri": "https://localhost:8080/"
        },
        "outputId": "a90ceb5e-08b1-4557-bc55-f463c2c2bbb0"
      },
      "execution_count": 9,
      "outputs": [
        {
          "name": "stdout",
          "output_type": "stream",
          "text": [
            "··········\n"
          ]
        }
      ],
      "id": "5hiF1xfNbHY4"
    },
    {
      "cell_type": "code",
      "source": [
        "# region if using GCP or another cloud provider\n",
        "REGION = getpass.getpass()"
      ],
      "metadata": {
        "colab": {
          "base_uri": "https://localhost:8080/"
        },
        "id": "9li32ugkWrz9",
        "executionInfo": {
          "status": "ok",
          "timestamp": 1704990652562,
          "user_tz": 360,
          "elapsed": 8261,
          "user": {
            "displayName": "",
            "userId": ""
          }
        },
        "outputId": "053cbbe6-010d-4dcb-f5b9-b3085e1fa4af"
      },
      "id": "9li32ugkWrz9",
      "execution_count": 10,
      "outputs": [
        {
          "name": "stdout",
          "output_type": "stream",
          "text": [
            "··········\n"
          ]
        }
      ]
    },
    {
      "cell_type": "code",
      "source": [
        "vertexai.init(project=PROJECT_ID, location=REGION)"
      ],
      "metadata": {
        "id": "ni1V9QSObHQ9",
        "executionInfo": {
          "status": "ok",
          "timestamp": 1704990704505,
          "user_tz": 360,
          "elapsed": 145,
          "user": {
            "displayName": "",
            "userId": ""
          }
        }
      },
      "execution_count": 11,
      "outputs": [],
      "id": "ni1V9QSObHQ9"
    },
    {
      "cell_type": "code",
      "source": [
        "# run the below in the jupyter terminal to authenticate your google account\n",
        "# ! gcloud auth login"
      ],
      "metadata": {
        "id": "RDEaC7CBbRsH"
      },
      "execution_count": null,
      "outputs": [],
      "id": "RDEaC7CBbRsH"
    },
    {
      "cell_type": "code",
      "source": [
        "! gcloud config set project {PROJECT_ID}"
      ],
      "metadata": {
        "colab": {
          "base_uri": "https://localhost:8080/"
        },
        "id": "Oqp4DeyHbRmb",
        "executionInfo": {
          "status": "ok",
          "timestamp": 1704990736038,
          "user_tz": 360,
          "elapsed": 2057,
          "user": {
            "displayName": "",
            "userId": ""
          }
        },
        "outputId": "5251b599-fc28-4ee0-89c6-ebbef75e78a8"
      },
      "execution_count": 12,
      "outputs": [
        {
          "output_type": "stream",
          "name": "stdout",
          "text": [
            "Updated property [core/project].\n"
          ]
        }
      ],
      "id": "Oqp4DeyHbRmb"
    },
    {
      "cell_type": "markdown",
      "metadata": {
        "id": "fa609cc1-0120-4022-9d39-8fd3c6eb5854"
      },
      "source": [
        "# Instantiate LLM\n",
        "*Note: The code below was updated from the PaLM API to the Gemini API, [per this migration guide](https://cloud.google.com/vertex-ai/docs/generative-ai/migrate/migrate-palm-to-gemini).*"
      ],
      "id": "fa609cc1-0120-4022-9d39-8fd3c6eb5854"
    },
    {
      "cell_type": "code",
      "execution_count": 13,
      "metadata": {
        "id": "2cb051db-3dc1-44ff-9e38-51e075358862",
        "executionInfo": {
          "status": "ok",
          "timestamp": 1704990745696,
          "user_tz": 360,
          "elapsed": 155,
          "user": {
            "displayName": "",
            "userId": ""
          }
        }
      },
      "outputs": [],
      "source": [
        "# function to print markdown returned by GCP models\n",
        "def print_markdown(string):\n",
        "    display(Markdown(string))"
      ],
      "id": "2cb051db-3dc1-44ff-9e38-51e075358862"
    },
    {
      "cell_type": "markdown",
      "source": [
        "## GCP Gemini\n",
        "[Link to documentation](https://cloud.google.com/vertex-ai/docs/generative-ai/multimodal/overview#gemini-api)\n",
        "\n",
        "[GCP Example Notebook](https://github.com/GoogleCloudPlatform/generative-ai/blob/main/gemini/getting-started/intro_gemini_python.ipynb)\n",
        "\n",
        "*Gemini is a family of generative AI models developed by Google DeepMind that is designed for multimodal use cases. A multimodal model is a model that is capable of processing information from multiple modalities, including images, videos, and text.*"
      ],
      "metadata": {
        "id": "9aS2PT-6ONEP"
      },
      "id": "9aS2PT-6ONEP"
    },
    {
      "cell_type": "markdown",
      "source": [
        "### For Single-Turn"
      ],
      "metadata": {
        "id": "6JdUhTPBiPFX"
      },
      "id": "6JdUhTPBiPFX"
    },
    {
      "cell_type": "code",
      "source": [
        "gemini = GenerativeModel(\"gemini-pro\")"
      ],
      "metadata": {
        "id": "uskbooAWOPNK",
        "executionInfo": {
          "status": "ok",
          "timestamp": 1704990793303,
          "user_tz": 360,
          "elapsed": 183,
          "user": {
            "displayName": "",
            "userId": ""
          }
        }
      },
      "execution_count": 14,
      "outputs": [],
      "id": "uskbooAWOPNK"
    },
    {
      "cell_type": "code",
      "source": [
        "gemini_parameters = {\n",
        "    \"temperature\": 0.2,\n",
        "    \"max_output_tokens\": 8192,\n",
        "    \"top_p\": 0.8,\n",
        "    \"top_k\": 40,\n",
        "}"
      ],
      "metadata": {
        "id": "BNcenJbgO1xx",
        "executionInfo": {
          "status": "ok",
          "timestamp": 1704990793675,
          "user_tz": 360,
          "elapsed": 141,
          "user": {
            "displayName": "",
            "userId": ""
          }
        }
      },
      "execution_count": 15,
      "outputs": [],
      "id": "BNcenJbgO1xx"
    },
    {
      "cell_type": "markdown",
      "source": [
        "# Read in PPP Loan Data\n",
        "The following data [is public](https://data.sba.gov/dataset/ppp-foia) and includes Paycheck Protection Program (PPP) loans over USD 150,000. The data has 53 features, which we will reduce to 14 for this initial workflow. Most knowledge graphs, especially for a POC, do not require all the data in a source database. Rather, 'less but focused and better' is often an ideal approach."
      ],
      "metadata": {
        "id": "yAwwEulcaftR"
      },
      "id": "yAwwEulcaftR"
    },
    {
      "cell_type": "markdown",
      "source": [
        "## PPP Data Over 150k"
      ],
      "metadata": {
        "id": "aqGvRfSIioaG"
      },
      "id": "aqGvRfSIioaG"
    },
    {
      "cell_type": "code",
      "source": [
        "ppp_df = pd.read_csv('https://data.sba.gov/dataset/8aa276e2-6cab-4f86-aca4-a7dde42adf24/resource/738e639c-1fbf-4e16-beb0-a223831011e8/download/public_150k_plus_230930.csv')\n",
        "ppp_df.shape"
      ],
      "metadata": {
        "colab": {
          "base_uri": "https://localhost:8080/"
        },
        "id": "sYSSULLYioVM",
        "executionInfo": {
          "status": "ok",
          "timestamp": 1704990948644,
          "user_tz": 360,
          "elapsed": 20799,
          "user": {
            "displayName": "",
            "userId": ""
          }
        },
        "outputId": "a1bf16f6-d314-46f9-c9cf-793dc7f45543"
      },
      "id": "sYSSULLYioVM",
      "execution_count": 17,
      "outputs": [
        {
          "output_type": "execute_result",
          "data": {
            "text/plain": [
              "(968525, 53)"
            ]
          },
          "metadata": {},
          "execution_count": 17
        }
      ]
    },
    {
      "cell_type": "code",
      "source": [
        "# set LoanNumber as a string because it is an identifier\n",
        "ppp_df['LoanNumber'] = ppp_df['LoanNumber'].astype(str)"
      ],
      "metadata": {
        "id": "qTPLTnw6cO5f",
        "executionInfo": {
          "status": "ok",
          "timestamp": 1704992003576,
          "user_tz": 360,
          "elapsed": 674,
          "user": {
            "displayName": "",
            "userId": ""
          }
        }
      },
      "id": "qTPLTnw6cO5f",
      "execution_count": 30,
      "outputs": []
    },
    {
      "cell_type": "code",
      "source": [
        "ppp_df.head()"
      ],
      "metadata": {
        "colab": {
          "base_uri": "https://localhost:8080/",
          "height": 348
        },
        "id": "iIfpHNI3jItC",
        "executionInfo": {
          "status": "ok",
          "timestamp": 1704992003978,
          "user_tz": 360,
          "elapsed": 3,
          "user": {
            "displayName": "",
            "userId": ""
          }
        },
        "outputId": "1174fb49-4df1-4e3f-a55a-c842f98f5581"
      },
      "id": "iIfpHNI3jItC",
      "execution_count": 31,
      "outputs": [
        {
          "output_type": "execute_result",
          "data": {
            "text/plain": [
              "               BorrowerName             BusinessType  LoanNumber  \\\n",
              "0     SUMTER COATINGS, INC.              Corporation  9547507704   \n",
              "1     PLEASANT PLACES, INC.      Sole Proprietorship  9777677704   \n",
              "2   BOYER CHILDREN'S CLINIC  Non-Profit Organization  5791407702   \n",
              "3  KIRTLEY CONSTRUCTION INC              Corporation  6223567700   \n",
              "4              AERO BOX LLC                      NaN  9662437702   \n",
              "\n",
              "   CurrentApprovalAmount  JobsReported ProjectState  \\\n",
              "0              769358.78          62.0           SC   \n",
              "1              736927.79          73.0           SC   \n",
              "2              691355.00          75.0           WA   \n",
              "3              499871.00          21.0           CA   \n",
              "4              367437.00          25.0          NaN   \n",
              "\n",
              "                       OriginatingLender  UTILITIES_PROCEED  PAYROLL_PROCEED  \\\n",
              "0                           Synovus Bank                NaN        769358.78   \n",
              "1                           Synovus Bank                NaN        736927.79   \n",
              "2  Bank of America, National Association                NaN        691355.00   \n",
              "3  Bank of America, National Association                NaN        499871.00   \n",
              "4           The Huntington National Bank                NaN        367437.00   \n",
              "\n",
              "   MORTGAGE_INTEREST_PROCEED  RENT_PROCEED  REFINANCE_EIDL_PROCEED  \\\n",
              "0                        NaN           NaN                     NaN   \n",
              "1                        NaN           NaN                     NaN   \n",
              "2                        NaN           NaN                     NaN   \n",
              "3                        NaN           NaN                     NaN   \n",
              "4                        NaN           NaN                     NaN   \n",
              "\n",
              "   HEALTH_CARE_PROCEED  DEBT_INTEREST_PROCEED  \n",
              "0                  NaN                    NaN  \n",
              "1                  NaN                    NaN  \n",
              "2                  NaN                    NaN  \n",
              "3                  NaN                    NaN  \n",
              "4                  NaN                    NaN  "
            ],
            "text/html": [
              "\n",
              "  <div id=\"df-4c45acbe-45cf-4a24-ba2f-699d7aeaedaa\" class=\"colab-df-container\">\n",
              "    <div>\n",
              "<style scoped>\n",
              "    .dataframe tbody tr th:only-of-type {\n",
              "        vertical-align: middle;\n",
              "    }\n",
              "\n",
              "    .dataframe tbody tr th {\n",
              "        vertical-align: top;\n",
              "    }\n",
              "\n",
              "    .dataframe thead th {\n",
              "        text-align: right;\n",
              "    }\n",
              "</style>\n",
              "<table border=\"1\" class=\"dataframe\">\n",
              "  <thead>\n",
              "    <tr style=\"text-align: right;\">\n",
              "      <th></th>\n",
              "      <th>BorrowerName</th>\n",
              "      <th>BusinessType</th>\n",
              "      <th>LoanNumber</th>\n",
              "      <th>CurrentApprovalAmount</th>\n",
              "      <th>JobsReported</th>\n",
              "      <th>ProjectState</th>\n",
              "      <th>OriginatingLender</th>\n",
              "      <th>UTILITIES_PROCEED</th>\n",
              "      <th>PAYROLL_PROCEED</th>\n",
              "      <th>MORTGAGE_INTEREST_PROCEED</th>\n",
              "      <th>RENT_PROCEED</th>\n",
              "      <th>REFINANCE_EIDL_PROCEED</th>\n",
              "      <th>HEALTH_CARE_PROCEED</th>\n",
              "      <th>DEBT_INTEREST_PROCEED</th>\n",
              "    </tr>\n",
              "  </thead>\n",
              "  <tbody>\n",
              "    <tr>\n",
              "      <th>0</th>\n",
              "      <td>SUMTER COATINGS, INC.</td>\n",
              "      <td>Corporation</td>\n",
              "      <td>9547507704</td>\n",
              "      <td>769358.78</td>\n",
              "      <td>62.0</td>\n",
              "      <td>SC</td>\n",
              "      <td>Synovus Bank</td>\n",
              "      <td>NaN</td>\n",
              "      <td>769358.78</td>\n",
              "      <td>NaN</td>\n",
              "      <td>NaN</td>\n",
              "      <td>NaN</td>\n",
              "      <td>NaN</td>\n",
              "      <td>NaN</td>\n",
              "    </tr>\n",
              "    <tr>\n",
              "      <th>1</th>\n",
              "      <td>PLEASANT PLACES, INC.</td>\n",
              "      <td>Sole Proprietorship</td>\n",
              "      <td>9777677704</td>\n",
              "      <td>736927.79</td>\n",
              "      <td>73.0</td>\n",
              "      <td>SC</td>\n",
              "      <td>Synovus Bank</td>\n",
              "      <td>NaN</td>\n",
              "      <td>736927.79</td>\n",
              "      <td>NaN</td>\n",
              "      <td>NaN</td>\n",
              "      <td>NaN</td>\n",
              "      <td>NaN</td>\n",
              "      <td>NaN</td>\n",
              "    </tr>\n",
              "    <tr>\n",
              "      <th>2</th>\n",
              "      <td>BOYER CHILDREN'S CLINIC</td>\n",
              "      <td>Non-Profit Organization</td>\n",
              "      <td>5791407702</td>\n",
              "      <td>691355.00</td>\n",
              "      <td>75.0</td>\n",
              "      <td>WA</td>\n",
              "      <td>Bank of America, National Association</td>\n",
              "      <td>NaN</td>\n",
              "      <td>691355.00</td>\n",
              "      <td>NaN</td>\n",
              "      <td>NaN</td>\n",
              "      <td>NaN</td>\n",
              "      <td>NaN</td>\n",
              "      <td>NaN</td>\n",
              "    </tr>\n",
              "    <tr>\n",
              "      <th>3</th>\n",
              "      <td>KIRTLEY CONSTRUCTION INC</td>\n",
              "      <td>Corporation</td>\n",
              "      <td>6223567700</td>\n",
              "      <td>499871.00</td>\n",
              "      <td>21.0</td>\n",
              "      <td>CA</td>\n",
              "      <td>Bank of America, National Association</td>\n",
              "      <td>NaN</td>\n",
              "      <td>499871.00</td>\n",
              "      <td>NaN</td>\n",
              "      <td>NaN</td>\n",
              "      <td>NaN</td>\n",
              "      <td>NaN</td>\n",
              "      <td>NaN</td>\n",
              "    </tr>\n",
              "    <tr>\n",
              "      <th>4</th>\n",
              "      <td>AERO BOX LLC</td>\n",
              "      <td>NaN</td>\n",
              "      <td>9662437702</td>\n",
              "      <td>367437.00</td>\n",
              "      <td>25.0</td>\n",
              "      <td>NaN</td>\n",
              "      <td>The Huntington National Bank</td>\n",
              "      <td>NaN</td>\n",
              "      <td>367437.00</td>\n",
              "      <td>NaN</td>\n",
              "      <td>NaN</td>\n",
              "      <td>NaN</td>\n",
              "      <td>NaN</td>\n",
              "      <td>NaN</td>\n",
              "    </tr>\n",
              "  </tbody>\n",
              "</table>\n",
              "</div>\n",
              "    <div class=\"colab-df-buttons\">\n",
              "\n",
              "  <div class=\"colab-df-container\">\n",
              "    <button class=\"colab-df-convert\" onclick=\"convertToInteractive('df-4c45acbe-45cf-4a24-ba2f-699d7aeaedaa')\"\n",
              "            title=\"Convert this dataframe to an interactive table.\"\n",
              "            style=\"display:none;\">\n",
              "\n",
              "  <svg xmlns=\"http://www.w3.org/2000/svg\" height=\"24px\" viewBox=\"0 -960 960 960\">\n",
              "    <path d=\"M120-120v-720h720v720H120Zm60-500h600v-160H180v160Zm220 220h160v-160H400v160Zm0 220h160v-160H400v160ZM180-400h160v-160H180v160Zm440 0h160v-160H620v160ZM180-180h160v-160H180v160Zm440 0h160v-160H620v160Z\"/>\n",
              "  </svg>\n",
              "    </button>\n",
              "\n",
              "  <style>\n",
              "    .colab-df-container {\n",
              "      display:flex;\n",
              "      gap: 12px;\n",
              "    }\n",
              "\n",
              "    .colab-df-convert {\n",
              "      background-color: #E8F0FE;\n",
              "      border: none;\n",
              "      border-radius: 50%;\n",
              "      cursor: pointer;\n",
              "      display: none;\n",
              "      fill: #1967D2;\n",
              "      height: 32px;\n",
              "      padding: 0 0 0 0;\n",
              "      width: 32px;\n",
              "    }\n",
              "\n",
              "    .colab-df-convert:hover {\n",
              "      background-color: #E2EBFA;\n",
              "      box-shadow: 0px 1px 2px rgba(60, 64, 67, 0.3), 0px 1px 3px 1px rgba(60, 64, 67, 0.15);\n",
              "      fill: #174EA6;\n",
              "    }\n",
              "\n",
              "    .colab-df-buttons div {\n",
              "      margin-bottom: 4px;\n",
              "    }\n",
              "\n",
              "    [theme=dark] .colab-df-convert {\n",
              "      background-color: #3B4455;\n",
              "      fill: #D2E3FC;\n",
              "    }\n",
              "\n",
              "    [theme=dark] .colab-df-convert:hover {\n",
              "      background-color: #434B5C;\n",
              "      box-shadow: 0px 1px 3px 1px rgba(0, 0, 0, 0.15);\n",
              "      filter: drop-shadow(0px 1px 2px rgba(0, 0, 0, 0.3));\n",
              "      fill: #FFFFFF;\n",
              "    }\n",
              "  </style>\n",
              "\n",
              "    <script>\n",
              "      const buttonEl =\n",
              "        document.querySelector('#df-4c45acbe-45cf-4a24-ba2f-699d7aeaedaa button.colab-df-convert');\n",
              "      buttonEl.style.display =\n",
              "        google.colab.kernel.accessAllowed ? 'block' : 'none';\n",
              "\n",
              "      async function convertToInteractive(key) {\n",
              "        const element = document.querySelector('#df-4c45acbe-45cf-4a24-ba2f-699d7aeaedaa');\n",
              "        const dataTable =\n",
              "          await google.colab.kernel.invokeFunction('convertToInteractive',\n",
              "                                                    [key], {});\n",
              "        if (!dataTable) return;\n",
              "\n",
              "        const docLinkHtml = 'Like what you see? Visit the ' +\n",
              "          '<a target=\"_blank\" href=https://colab.research.google.com/notebooks/data_table.ipynb>data table notebook</a>'\n",
              "          + ' to learn more about interactive tables.';\n",
              "        element.innerHTML = '';\n",
              "        dataTable['output_type'] = 'display_data';\n",
              "        await google.colab.output.renderOutput(dataTable, element);\n",
              "        const docLink = document.createElement('div');\n",
              "        docLink.innerHTML = docLinkHtml;\n",
              "        element.appendChild(docLink);\n",
              "      }\n",
              "    </script>\n",
              "  </div>\n",
              "\n",
              "\n",
              "<div id=\"df-2773293f-62ef-426b-a6f6-931f28f415d3\">\n",
              "  <button class=\"colab-df-quickchart\" onclick=\"quickchart('df-2773293f-62ef-426b-a6f6-931f28f415d3')\"\n",
              "            title=\"Suggest charts\"\n",
              "            style=\"display:none;\">\n",
              "\n",
              "<svg xmlns=\"http://www.w3.org/2000/svg\" height=\"24px\"viewBox=\"0 0 24 24\"\n",
              "     width=\"24px\">\n",
              "    <g>\n",
              "        <path d=\"M19 3H5c-1.1 0-2 .9-2 2v14c0 1.1.9 2 2 2h14c1.1 0 2-.9 2-2V5c0-1.1-.9-2-2-2zM9 17H7v-7h2v7zm4 0h-2V7h2v10zm4 0h-2v-4h2v4z\"/>\n",
              "    </g>\n",
              "</svg>\n",
              "  </button>\n",
              "\n",
              "<style>\n",
              "  .colab-df-quickchart {\n",
              "      --bg-color: #E8F0FE;\n",
              "      --fill-color: #1967D2;\n",
              "      --hover-bg-color: #E2EBFA;\n",
              "      --hover-fill-color: #174EA6;\n",
              "      --disabled-fill-color: #AAA;\n",
              "      --disabled-bg-color: #DDD;\n",
              "  }\n",
              "\n",
              "  [theme=dark] .colab-df-quickchart {\n",
              "      --bg-color: #3B4455;\n",
              "      --fill-color: #D2E3FC;\n",
              "      --hover-bg-color: #434B5C;\n",
              "      --hover-fill-color: #FFFFFF;\n",
              "      --disabled-bg-color: #3B4455;\n",
              "      --disabled-fill-color: #666;\n",
              "  }\n",
              "\n",
              "  .colab-df-quickchart {\n",
              "    background-color: var(--bg-color);\n",
              "    border: none;\n",
              "    border-radius: 50%;\n",
              "    cursor: pointer;\n",
              "    display: none;\n",
              "    fill: var(--fill-color);\n",
              "    height: 32px;\n",
              "    padding: 0;\n",
              "    width: 32px;\n",
              "  }\n",
              "\n",
              "  .colab-df-quickchart:hover {\n",
              "    background-color: var(--hover-bg-color);\n",
              "    box-shadow: 0 1px 2px rgba(60, 64, 67, 0.3), 0 1px 3px 1px rgba(60, 64, 67, 0.15);\n",
              "    fill: var(--button-hover-fill-color);\n",
              "  }\n",
              "\n",
              "  .colab-df-quickchart-complete:disabled,\n",
              "  .colab-df-quickchart-complete:disabled:hover {\n",
              "    background-color: var(--disabled-bg-color);\n",
              "    fill: var(--disabled-fill-color);\n",
              "    box-shadow: none;\n",
              "  }\n",
              "\n",
              "  .colab-df-spinner {\n",
              "    border: 2px solid var(--fill-color);\n",
              "    border-color: transparent;\n",
              "    border-bottom-color: var(--fill-color);\n",
              "    animation:\n",
              "      spin 1s steps(1) infinite;\n",
              "  }\n",
              "\n",
              "  @keyframes spin {\n",
              "    0% {\n",
              "      border-color: transparent;\n",
              "      border-bottom-color: var(--fill-color);\n",
              "      border-left-color: var(--fill-color);\n",
              "    }\n",
              "    20% {\n",
              "      border-color: transparent;\n",
              "      border-left-color: var(--fill-color);\n",
              "      border-top-color: var(--fill-color);\n",
              "    }\n",
              "    30% {\n",
              "      border-color: transparent;\n",
              "      border-left-color: var(--fill-color);\n",
              "      border-top-color: var(--fill-color);\n",
              "      border-right-color: var(--fill-color);\n",
              "    }\n",
              "    40% {\n",
              "      border-color: transparent;\n",
              "      border-right-color: var(--fill-color);\n",
              "      border-top-color: var(--fill-color);\n",
              "    }\n",
              "    60% {\n",
              "      border-color: transparent;\n",
              "      border-right-color: var(--fill-color);\n",
              "    }\n",
              "    80% {\n",
              "      border-color: transparent;\n",
              "      border-right-color: var(--fill-color);\n",
              "      border-bottom-color: var(--fill-color);\n",
              "    }\n",
              "    90% {\n",
              "      border-color: transparent;\n",
              "      border-bottom-color: var(--fill-color);\n",
              "    }\n",
              "  }\n",
              "</style>\n",
              "\n",
              "  <script>\n",
              "    async function quickchart(key) {\n",
              "      const quickchartButtonEl =\n",
              "        document.querySelector('#' + key + ' button');\n",
              "      quickchartButtonEl.disabled = true;  // To prevent multiple clicks.\n",
              "      quickchartButtonEl.classList.add('colab-df-spinner');\n",
              "      try {\n",
              "        const charts = await google.colab.kernel.invokeFunction(\n",
              "            'suggestCharts', [key], {});\n",
              "      } catch (error) {\n",
              "        console.error('Error during call to suggestCharts:', error);\n",
              "      }\n",
              "      quickchartButtonEl.classList.remove('colab-df-spinner');\n",
              "      quickchartButtonEl.classList.add('colab-df-quickchart-complete');\n",
              "    }\n",
              "    (() => {\n",
              "      let quickchartButtonEl =\n",
              "        document.querySelector('#df-2773293f-62ef-426b-a6f6-931f28f415d3 button');\n",
              "      quickchartButtonEl.style.display =\n",
              "        google.colab.kernel.accessAllowed ? 'block' : 'none';\n",
              "    })();\n",
              "  </script>\n",
              "</div>\n",
              "    </div>\n",
              "  </div>\n"
            ]
          },
          "metadata": {},
          "execution_count": 31
        }
      ]
    },
    {
      "cell_type": "code",
      "source": [
        "# down-select to the most relevant categories we will work with for now\n",
        "ppp_features = ['BorrowerName',\n",
        "                'BusinessType',\n",
        "                'LoanNumber',\n",
        "                'CurrentApprovalAmount',\n",
        "                'JobsReported',\n",
        "                'ProjectState',\n",
        "                'OriginatingLender',\n",
        "                'UTILITIES_PROCEED',\n",
        "                'PAYROLL_PROCEED',\n",
        "                'MORTGAGE_INTEREST_PROCEED',\n",
        "                'RENT_PROCEED',\n",
        "                'REFINANCE_EIDL_PROCEED',\n",
        "                'HEALTH_CARE_PROCEED',\n",
        "                'DEBT_INTEREST_PROCEED'\n",
        "]\n",
        "\n",
        "# confirm accurate feature names\n",
        "[x for x in ppp_features if x not in ppp_df.columns]"
      ],
      "metadata": {
        "id": "wQzYOtYupWxg",
        "executionInfo": {
          "status": "ok",
          "timestamp": 1704991009864,
          "user_tz": 360,
          "elapsed": 104,
          "user": {
            "displayName": "",
            "userId": ""
          }
        },
        "colab": {
          "base_uri": "https://localhost:8080/"
        },
        "outputId": "e9662d99-b6ee-4dbd-906b-e753065c786e"
      },
      "id": "wQzYOtYupWxg",
      "execution_count": 19,
      "outputs": [
        {
          "output_type": "execute_result",
          "data": {
            "text/plain": [
              "[]"
            ]
          },
          "metadata": {},
          "execution_count": 19
        }
      ]
    },
    {
      "cell_type": "code",
      "source": [
        "# subselect specific features\n",
        "ppp_df = ppp_df[ppp_features].copy()\n",
        "ppp_df.shape"
      ],
      "metadata": {
        "colab": {
          "base_uri": "https://localhost:8080/"
        },
        "id": "TfPM0yW9kEdh",
        "executionInfo": {
          "status": "ok",
          "timestamp": 1704991011784,
          "user_tz": 360,
          "elapsed": 234,
          "user": {
            "displayName": "",
            "userId": ""
          }
        },
        "outputId": "0d22f1ee-fca4-4986-bccd-e31c08427908"
      },
      "id": "TfPM0yW9kEdh",
      "execution_count": 20,
      "outputs": [
        {
          "output_type": "execute_result",
          "data": {
            "text/plain": [
              "(968525, 14)"
            ]
          },
          "metadata": {},
          "execution_count": 20
        }
      ]
    },
    {
      "cell_type": "markdown",
      "source": [
        "# LLM-Assisted Knowledge Graph Generation"
      ],
      "metadata": {
        "id": "O-5QMHvkaHGJ"
      },
      "id": "O-5QMHvkaHGJ"
    },
    {
      "cell_type": "markdown",
      "source": [
        "# Step One: Structured Data Understanding with LLM Assistance"
      ],
      "metadata": {
        "id": "cJtORbJs3XTk"
      },
      "id": "cJtORbJs3XTk"
    },
    {
      "cell_type": "code",
      "source": [
        "# start new multi-turn chat\n",
        "gemini_chat = gemini.start_chat()"
      ],
      "metadata": {
        "id": "rOy9xinVEkN9",
        "executionInfo": {
          "status": "ok",
          "timestamp": 1704993300166,
          "user_tz": 360,
          "elapsed": 230,
          "user": {
            "displayName": "",
            "userId": ""
          }
        }
      },
      "id": "rOy9xinVEkN9",
      "execution_count": 41,
      "outputs": []
    },
    {
      "cell_type": "code",
      "source": [
        "prompt = \"\"\"\n",
        "Let's walk through the process of designing a graph\n",
        "data model for my Neo4j database step-by-step.\n",
        "\n",
        "First, how can you help me understand my data as it relates to creating a graph\n",
        "data model. What information about the data should I provide to you\n",
        "as the LLM assistant?\n",
        "\"\"\""
      ],
      "metadata": {
        "id": "0M4_TeIpEqP0",
        "executionInfo": {
          "status": "ok",
          "timestamp": 1704993300357,
          "user_tz": 360,
          "elapsed": 2,
          "user": {
            "displayName": "",
            "userId": ""
          }
        }
      },
      "id": "0M4_TeIpEqP0",
      "execution_count": 42,
      "outputs": []
    },
    {
      "cell_type": "code",
      "source": [
        "gemini_chat_resp = gemini_chat.send_message(\n",
        "    content = prompt,\n",
        "    generation_config = gemini_parameters,\n",
        "    stream = False\n",
        ")\n",
        "\n",
        "print_markdown(gemini_chat_resp.text)"
      ],
      "metadata": {
        "colab": {
          "base_uri": "https://localhost:8080/",
          "height": 598
        },
        "id": "FXGlezwlFBls",
        "executionInfo": {
          "status": "ok",
          "timestamp": 1704993307630,
          "user_tz": 360,
          "elapsed": 6946,
          "user": {
            "displayName": "",
            "userId": ""
          }
        },
        "outputId": "2685e2bf-e391-42cf-cf1c-ac5b3c3e7c28"
      },
      "id": "FXGlezwlFBls",
      "execution_count": 43,
      "outputs": [
        {
          "output_type": "display_data",
          "data": {
            "text/plain": [
              "<IPython.core.display.Markdown object>"
            ],
            "text/markdown": "To help you understand your data as it relates to creating a graph data model, you can provide me with the following information:\n\n1. **Entities and Their Attributes:**\n   - Identify the key entities (objects) in your data. These could be people, places, products, or concepts.\n   - List the attributes or properties associated with each entity. For example, for the entity \"Person,\" attributes might include name, age, and location.\n\n2. **Relationships Between Entities:**\n   - Determine the relationships between different entities. These relationships can be one-to-one, one-to-many, or many-to-many.\n   - Describe the nature of each relationship. For instance, a \"Person\" can have a \"friend\" relationship with another \"Person,\" or a \"Product\" can have a \"purchased_by\" relationship with a \"Customer.\"\n\n3. **Cardinality of Relationships:**\n   - Specify the cardinality of each relationship. Cardinality defines the number of entities that can participate in a relationship. It can be one-to-one, one-to-many, or many-to-many.\n\n4. **Data Volume and Growth:**\n   - Estimate the volume of data you currently have and anticipate in the future. This information helps determine the scalability requirements of your graph database.\n\n5. **Query Patterns and Use Cases:**\n   - Identify the common queries or use cases you expect to perform on your data. Understanding how you plan to use the data helps optimize the graph data model for efficient querying.\n\n6. **Data Consistency and Integrity:**\n   - Define any data consistency or integrity constraints that need to be enforced in the graph database. These constraints ensure the accuracy and reliability of your data.\n\n7. **Security and Access Control:**\n   - Specify the security requirements for accessing and managing the data in the graph database. This includes user roles, permissions, and authentication mechanisms.\n\n8. **Data Evolution and Future Requirements:**\n   - Consider potential changes or additions to your data in the future. A flexible graph data model should accommodate evolving data requirements.\n\nBy providing this information, you can help me better understand your data and design a graph data model that meets your specific needs and requirements."
          },
          "metadata": {}
        }
      ]
    },
    {
      "cell_type": "markdown",
      "source": [
        "## Ask LLM to Analyze Data"
      ],
      "metadata": {
        "id": "MwzGsFylIE3Q"
      },
      "id": "MwzGsFylIE3Q"
    },
    {
      "cell_type": "markdown",
      "source": [
        "### Define Variables to Pass to LLM"
      ],
      "metadata": {
        "id": "yASuBjapbh55"
      },
      "id": "yASuBjapbh55"
    },
    {
      "cell_type": "code",
      "source": [
        "# save .info() as a string variable\n",
        "buffer = io.StringIO()\n",
        "ppp_df.info(buf=buffer)\n",
        "\n",
        "ppp_df_info = buffer.getvalue()"
      ],
      "metadata": {
        "id": "6QLsQlzKNssR",
        "executionInfo": {
          "status": "ok",
          "timestamp": 1704993308494,
          "user_tz": 360,
          "elapsed": 866,
          "user": {
            "displayName": "",
            "userId": ""
          }
        }
      },
      "id": "6QLsQlzKNssR",
      "execution_count": 44,
      "outputs": []
    },
    {
      "cell_type": "code",
      "source": [
        "# save numeric .describe() as a variable\n",
        "ppp_df_desc = ppp_df.describe(percentiles=[0.1, 0.25, 0.5, 0.75, 0.9, 0.95, 0.99])\n",
        "ppp_df_desc"
      ],
      "metadata": {
        "colab": {
          "base_uri": "https://localhost:8080/",
          "height": 446
        },
        "id": "iv2esa0eF6ha",
        "executionInfo": {
          "status": "ok",
          "timestamp": 1704993308909,
          "user_tz": 360,
          "elapsed": 416,
          "user": {
            "displayName": "",
            "userId": ""
          }
        },
        "outputId": "d53a4859-02f0-4653-efaa-9923b4955747"
      },
      "id": "iv2esa0eF6ha",
      "execution_count": 45,
      "outputs": [
        {
          "output_type": "execute_result",
          "data": {
            "text/plain": [
              "       CurrentApprovalAmount   JobsReported  UTILITIES_PROCEED  \\\n",
              "count           9.685250e+05  968524.000000       3.393690e+05   \n",
              "mean            5.306195e+05      51.886593       1.493001e+04   \n",
              "std             7.378860e+05      67.552670       8.493718e+04   \n",
              "min             1.500000e+05       0.000000       0.000000e+00   \n",
              "10%             1.669620e+05      12.000000       1.000000e+00   \n",
              "25%             2.004000e+05      18.000000       1.000000e+00   \n",
              "50%             2.950000e+05      30.000000       1.000000e+00   \n",
              "75%             5.393829e+05      54.000000       4.500000e+03   \n",
              "90%             1.084455e+06     110.000000       3.074608e+04   \n",
              "95%             1.702404e+06     175.000000       6.320000e+04   \n",
              "99%             3.750000e+06     396.000000       2.452928e+05   \n",
              "max             1.000000e+07     500.000000       1.000000e+07   \n",
              "\n",
              "       PAYROLL_PROCEED  MORTGAGE_INTEREST_PROCEED  RENT_PROCEED  \\\n",
              "count     9.666930e+05               4.617200e+04  9.953000e+04   \n",
              "mean      5.148761e+05               4.816586e+04  5.619698e+04   \n",
              "std       7.140555e+05               1.591102e+05  1.113768e+05   \n",
              "min       0.000000e+00               0.000000e+00  0.000000e+00   \n",
              "10%       1.625000e+05               0.000000e+00  4.095800e+03   \n",
              "25%       1.956000e+05               0.000000e+00  1.353293e+04   \n",
              "50%       2.870770e+05               1.000000e+04  2.887750e+04   \n",
              "75%       5.246020e+05               4.025978e+04  5.625000e+04   \n",
              "90%       1.052715e+06               1.078968e+05  1.166324e+05   \n",
              "95%       1.649693e+06               2.030549e+05  1.950000e+05   \n",
              "99%       3.597014e+06               6.089184e+05  4.999710e+05   \n",
              "max       1.000000e+07               1.000000e+07  5.518278e+06   \n",
              "\n",
              "       REFINANCE_EIDL_PROCEED  HEALTH_CARE_PROCEED  DEBT_INTEREST_PROCEED  \n",
              "count            2.284800e+04         5.744100e+04           3.170700e+04  \n",
              "mean             6.899911e+03         4.686451e+04           1.436319e+04  \n",
              "std              6.215009e+04         1.029147e+05           5.550163e+04  \n",
              "min              0.000000e+00         0.000000e+00           0.000000e+00  \n",
              "10%              0.000000e+00         1.000000e+00           0.000000e+00  \n",
              "25%              0.000000e+00         8.000000e+03           0.000000e+00  \n",
              "50%              0.000000e+00         1.944400e+04           5.000000e+02  \n",
              "75%              0.000000e+00         4.400000e+04           9.915105e+03  \n",
              "90%              0.000000e+00         1.020180e+05           3.187840e+04  \n",
              "95%              1.000000e+04         1.836000e+05           6.237096e+04  \n",
              "99%              2.000000e+05         4.813948e+05           2.111298e+05  \n",
              "max              2.951590e+06         3.880000e+06           2.497617e+06  "
            ],
            "text/html": [
              "\n",
              "  <div id=\"df-281c88c9-01c6-4378-920a-5a5fd56b2b28\" class=\"colab-df-container\">\n",
              "    <div>\n",
              "<style scoped>\n",
              "    .dataframe tbody tr th:only-of-type {\n",
              "        vertical-align: middle;\n",
              "    }\n",
              "\n",
              "    .dataframe tbody tr th {\n",
              "        vertical-align: top;\n",
              "    }\n",
              "\n",
              "    .dataframe thead th {\n",
              "        text-align: right;\n",
              "    }\n",
              "</style>\n",
              "<table border=\"1\" class=\"dataframe\">\n",
              "  <thead>\n",
              "    <tr style=\"text-align: right;\">\n",
              "      <th></th>\n",
              "      <th>CurrentApprovalAmount</th>\n",
              "      <th>JobsReported</th>\n",
              "      <th>UTILITIES_PROCEED</th>\n",
              "      <th>PAYROLL_PROCEED</th>\n",
              "      <th>MORTGAGE_INTEREST_PROCEED</th>\n",
              "      <th>RENT_PROCEED</th>\n",
              "      <th>REFINANCE_EIDL_PROCEED</th>\n",
              "      <th>HEALTH_CARE_PROCEED</th>\n",
              "      <th>DEBT_INTEREST_PROCEED</th>\n",
              "    </tr>\n",
              "  </thead>\n",
              "  <tbody>\n",
              "    <tr>\n",
              "      <th>count</th>\n",
              "      <td>9.685250e+05</td>\n",
              "      <td>968524.000000</td>\n",
              "      <td>3.393690e+05</td>\n",
              "      <td>9.666930e+05</td>\n",
              "      <td>4.617200e+04</td>\n",
              "      <td>9.953000e+04</td>\n",
              "      <td>2.284800e+04</td>\n",
              "      <td>5.744100e+04</td>\n",
              "      <td>3.170700e+04</td>\n",
              "    </tr>\n",
              "    <tr>\n",
              "      <th>mean</th>\n",
              "      <td>5.306195e+05</td>\n",
              "      <td>51.886593</td>\n",
              "      <td>1.493001e+04</td>\n",
              "      <td>5.148761e+05</td>\n",
              "      <td>4.816586e+04</td>\n",
              "      <td>5.619698e+04</td>\n",
              "      <td>6.899911e+03</td>\n",
              "      <td>4.686451e+04</td>\n",
              "      <td>1.436319e+04</td>\n",
              "    </tr>\n",
              "    <tr>\n",
              "      <th>std</th>\n",
              "      <td>7.378860e+05</td>\n",
              "      <td>67.552670</td>\n",
              "      <td>8.493718e+04</td>\n",
              "      <td>7.140555e+05</td>\n",
              "      <td>1.591102e+05</td>\n",
              "      <td>1.113768e+05</td>\n",
              "      <td>6.215009e+04</td>\n",
              "      <td>1.029147e+05</td>\n",
              "      <td>5.550163e+04</td>\n",
              "    </tr>\n",
              "    <tr>\n",
              "      <th>min</th>\n",
              "      <td>1.500000e+05</td>\n",
              "      <td>0.000000</td>\n",
              "      <td>0.000000e+00</td>\n",
              "      <td>0.000000e+00</td>\n",
              "      <td>0.000000e+00</td>\n",
              "      <td>0.000000e+00</td>\n",
              "      <td>0.000000e+00</td>\n",
              "      <td>0.000000e+00</td>\n",
              "      <td>0.000000e+00</td>\n",
              "    </tr>\n",
              "    <tr>\n",
              "      <th>10%</th>\n",
              "      <td>1.669620e+05</td>\n",
              "      <td>12.000000</td>\n",
              "      <td>1.000000e+00</td>\n",
              "      <td>1.625000e+05</td>\n",
              "      <td>0.000000e+00</td>\n",
              "      <td>4.095800e+03</td>\n",
              "      <td>0.000000e+00</td>\n",
              "      <td>1.000000e+00</td>\n",
              "      <td>0.000000e+00</td>\n",
              "    </tr>\n",
              "    <tr>\n",
              "      <th>25%</th>\n",
              "      <td>2.004000e+05</td>\n",
              "      <td>18.000000</td>\n",
              "      <td>1.000000e+00</td>\n",
              "      <td>1.956000e+05</td>\n",
              "      <td>0.000000e+00</td>\n",
              "      <td>1.353293e+04</td>\n",
              "      <td>0.000000e+00</td>\n",
              "      <td>8.000000e+03</td>\n",
              "      <td>0.000000e+00</td>\n",
              "    </tr>\n",
              "    <tr>\n",
              "      <th>50%</th>\n",
              "      <td>2.950000e+05</td>\n",
              "      <td>30.000000</td>\n",
              "      <td>1.000000e+00</td>\n",
              "      <td>2.870770e+05</td>\n",
              "      <td>1.000000e+04</td>\n",
              "      <td>2.887750e+04</td>\n",
              "      <td>0.000000e+00</td>\n",
              "      <td>1.944400e+04</td>\n",
              "      <td>5.000000e+02</td>\n",
              "    </tr>\n",
              "    <tr>\n",
              "      <th>75%</th>\n",
              "      <td>5.393829e+05</td>\n",
              "      <td>54.000000</td>\n",
              "      <td>4.500000e+03</td>\n",
              "      <td>5.246020e+05</td>\n",
              "      <td>4.025978e+04</td>\n",
              "      <td>5.625000e+04</td>\n",
              "      <td>0.000000e+00</td>\n",
              "      <td>4.400000e+04</td>\n",
              "      <td>9.915105e+03</td>\n",
              "    </tr>\n",
              "    <tr>\n",
              "      <th>90%</th>\n",
              "      <td>1.084455e+06</td>\n",
              "      <td>110.000000</td>\n",
              "      <td>3.074608e+04</td>\n",
              "      <td>1.052715e+06</td>\n",
              "      <td>1.078968e+05</td>\n",
              "      <td>1.166324e+05</td>\n",
              "      <td>0.000000e+00</td>\n",
              "      <td>1.020180e+05</td>\n",
              "      <td>3.187840e+04</td>\n",
              "    </tr>\n",
              "    <tr>\n",
              "      <th>95%</th>\n",
              "      <td>1.702404e+06</td>\n",
              "      <td>175.000000</td>\n",
              "      <td>6.320000e+04</td>\n",
              "      <td>1.649693e+06</td>\n",
              "      <td>2.030549e+05</td>\n",
              "      <td>1.950000e+05</td>\n",
              "      <td>1.000000e+04</td>\n",
              "      <td>1.836000e+05</td>\n",
              "      <td>6.237096e+04</td>\n",
              "    </tr>\n",
              "    <tr>\n",
              "      <th>99%</th>\n",
              "      <td>3.750000e+06</td>\n",
              "      <td>396.000000</td>\n",
              "      <td>2.452928e+05</td>\n",
              "      <td>3.597014e+06</td>\n",
              "      <td>6.089184e+05</td>\n",
              "      <td>4.999710e+05</td>\n",
              "      <td>2.000000e+05</td>\n",
              "      <td>4.813948e+05</td>\n",
              "      <td>2.111298e+05</td>\n",
              "    </tr>\n",
              "    <tr>\n",
              "      <th>max</th>\n",
              "      <td>1.000000e+07</td>\n",
              "      <td>500.000000</td>\n",
              "      <td>1.000000e+07</td>\n",
              "      <td>1.000000e+07</td>\n",
              "      <td>1.000000e+07</td>\n",
              "      <td>5.518278e+06</td>\n",
              "      <td>2.951590e+06</td>\n",
              "      <td>3.880000e+06</td>\n",
              "      <td>2.497617e+06</td>\n",
              "    </tr>\n",
              "  </tbody>\n",
              "</table>\n",
              "</div>\n",
              "    <div class=\"colab-df-buttons\">\n",
              "\n",
              "  <div class=\"colab-df-container\">\n",
              "    <button class=\"colab-df-convert\" onclick=\"convertToInteractive('df-281c88c9-01c6-4378-920a-5a5fd56b2b28')\"\n",
              "            title=\"Convert this dataframe to an interactive table.\"\n",
              "            style=\"display:none;\">\n",
              "\n",
              "  <svg xmlns=\"http://www.w3.org/2000/svg\" height=\"24px\" viewBox=\"0 -960 960 960\">\n",
              "    <path d=\"M120-120v-720h720v720H120Zm60-500h600v-160H180v160Zm220 220h160v-160H400v160Zm0 220h160v-160H400v160ZM180-400h160v-160H180v160Zm440 0h160v-160H620v160ZM180-180h160v-160H180v160Zm440 0h160v-160H620v160Z\"/>\n",
              "  </svg>\n",
              "    </button>\n",
              "\n",
              "  <style>\n",
              "    .colab-df-container {\n",
              "      display:flex;\n",
              "      gap: 12px;\n",
              "    }\n",
              "\n",
              "    .colab-df-convert {\n",
              "      background-color: #E8F0FE;\n",
              "      border: none;\n",
              "      border-radius: 50%;\n",
              "      cursor: pointer;\n",
              "      display: none;\n",
              "      fill: #1967D2;\n",
              "      height: 32px;\n",
              "      padding: 0 0 0 0;\n",
              "      width: 32px;\n",
              "    }\n",
              "\n",
              "    .colab-df-convert:hover {\n",
              "      background-color: #E2EBFA;\n",
              "      box-shadow: 0px 1px 2px rgba(60, 64, 67, 0.3), 0px 1px 3px 1px rgba(60, 64, 67, 0.15);\n",
              "      fill: #174EA6;\n",
              "    }\n",
              "\n",
              "    .colab-df-buttons div {\n",
              "      margin-bottom: 4px;\n",
              "    }\n",
              "\n",
              "    [theme=dark] .colab-df-convert {\n",
              "      background-color: #3B4455;\n",
              "      fill: #D2E3FC;\n",
              "    }\n",
              "\n",
              "    [theme=dark] .colab-df-convert:hover {\n",
              "      background-color: #434B5C;\n",
              "      box-shadow: 0px 1px 3px 1px rgba(0, 0, 0, 0.15);\n",
              "      filter: drop-shadow(0px 1px 2px rgba(0, 0, 0, 0.3));\n",
              "      fill: #FFFFFF;\n",
              "    }\n",
              "  </style>\n",
              "\n",
              "    <script>\n",
              "      const buttonEl =\n",
              "        document.querySelector('#df-281c88c9-01c6-4378-920a-5a5fd56b2b28 button.colab-df-convert');\n",
              "      buttonEl.style.display =\n",
              "        google.colab.kernel.accessAllowed ? 'block' : 'none';\n",
              "\n",
              "      async function convertToInteractive(key) {\n",
              "        const element = document.querySelector('#df-281c88c9-01c6-4378-920a-5a5fd56b2b28');\n",
              "        const dataTable =\n",
              "          await google.colab.kernel.invokeFunction('convertToInteractive',\n",
              "                                                    [key], {});\n",
              "        if (!dataTable) return;\n",
              "\n",
              "        const docLinkHtml = 'Like what you see? Visit the ' +\n",
              "          '<a target=\"_blank\" href=https://colab.research.google.com/notebooks/data_table.ipynb>data table notebook</a>'\n",
              "          + ' to learn more about interactive tables.';\n",
              "        element.innerHTML = '';\n",
              "        dataTable['output_type'] = 'display_data';\n",
              "        await google.colab.output.renderOutput(dataTable, element);\n",
              "        const docLink = document.createElement('div');\n",
              "        docLink.innerHTML = docLinkHtml;\n",
              "        element.appendChild(docLink);\n",
              "      }\n",
              "    </script>\n",
              "  </div>\n",
              "\n",
              "\n",
              "<div id=\"df-a184838e-4222-490e-a97a-3157cf510112\">\n",
              "  <button class=\"colab-df-quickchart\" onclick=\"quickchart('df-a184838e-4222-490e-a97a-3157cf510112')\"\n",
              "            title=\"Suggest charts\"\n",
              "            style=\"display:none;\">\n",
              "\n",
              "<svg xmlns=\"http://www.w3.org/2000/svg\" height=\"24px\"viewBox=\"0 0 24 24\"\n",
              "     width=\"24px\">\n",
              "    <g>\n",
              "        <path d=\"M19 3H5c-1.1 0-2 .9-2 2v14c0 1.1.9 2 2 2h14c1.1 0 2-.9 2-2V5c0-1.1-.9-2-2-2zM9 17H7v-7h2v7zm4 0h-2V7h2v10zm4 0h-2v-4h2v4z\"/>\n",
              "    </g>\n",
              "</svg>\n",
              "  </button>\n",
              "\n",
              "<style>\n",
              "  .colab-df-quickchart {\n",
              "      --bg-color: #E8F0FE;\n",
              "      --fill-color: #1967D2;\n",
              "      --hover-bg-color: #E2EBFA;\n",
              "      --hover-fill-color: #174EA6;\n",
              "      --disabled-fill-color: #AAA;\n",
              "      --disabled-bg-color: #DDD;\n",
              "  }\n",
              "\n",
              "  [theme=dark] .colab-df-quickchart {\n",
              "      --bg-color: #3B4455;\n",
              "      --fill-color: #D2E3FC;\n",
              "      --hover-bg-color: #434B5C;\n",
              "      --hover-fill-color: #FFFFFF;\n",
              "      --disabled-bg-color: #3B4455;\n",
              "      --disabled-fill-color: #666;\n",
              "  }\n",
              "\n",
              "  .colab-df-quickchart {\n",
              "    background-color: var(--bg-color);\n",
              "    border: none;\n",
              "    border-radius: 50%;\n",
              "    cursor: pointer;\n",
              "    display: none;\n",
              "    fill: var(--fill-color);\n",
              "    height: 32px;\n",
              "    padding: 0;\n",
              "    width: 32px;\n",
              "  }\n",
              "\n",
              "  .colab-df-quickchart:hover {\n",
              "    background-color: var(--hover-bg-color);\n",
              "    box-shadow: 0 1px 2px rgba(60, 64, 67, 0.3), 0 1px 3px 1px rgba(60, 64, 67, 0.15);\n",
              "    fill: var(--button-hover-fill-color);\n",
              "  }\n",
              "\n",
              "  .colab-df-quickchart-complete:disabled,\n",
              "  .colab-df-quickchart-complete:disabled:hover {\n",
              "    background-color: var(--disabled-bg-color);\n",
              "    fill: var(--disabled-fill-color);\n",
              "    box-shadow: none;\n",
              "  }\n",
              "\n",
              "  .colab-df-spinner {\n",
              "    border: 2px solid var(--fill-color);\n",
              "    border-color: transparent;\n",
              "    border-bottom-color: var(--fill-color);\n",
              "    animation:\n",
              "      spin 1s steps(1) infinite;\n",
              "  }\n",
              "\n",
              "  @keyframes spin {\n",
              "    0% {\n",
              "      border-color: transparent;\n",
              "      border-bottom-color: var(--fill-color);\n",
              "      border-left-color: var(--fill-color);\n",
              "    }\n",
              "    20% {\n",
              "      border-color: transparent;\n",
              "      border-left-color: var(--fill-color);\n",
              "      border-top-color: var(--fill-color);\n",
              "    }\n",
              "    30% {\n",
              "      border-color: transparent;\n",
              "      border-left-color: var(--fill-color);\n",
              "      border-top-color: var(--fill-color);\n",
              "      border-right-color: var(--fill-color);\n",
              "    }\n",
              "    40% {\n",
              "      border-color: transparent;\n",
              "      border-right-color: var(--fill-color);\n",
              "      border-top-color: var(--fill-color);\n",
              "    }\n",
              "    60% {\n",
              "      border-color: transparent;\n",
              "      border-right-color: var(--fill-color);\n",
              "    }\n",
              "    80% {\n",
              "      border-color: transparent;\n",
              "      border-right-color: var(--fill-color);\n",
              "      border-bottom-color: var(--fill-color);\n",
              "    }\n",
              "    90% {\n",
              "      border-color: transparent;\n",
              "      border-bottom-color: var(--fill-color);\n",
              "    }\n",
              "  }\n",
              "</style>\n",
              "\n",
              "  <script>\n",
              "    async function quickchart(key) {\n",
              "      const quickchartButtonEl =\n",
              "        document.querySelector('#' + key + ' button');\n",
              "      quickchartButtonEl.disabled = true;  // To prevent multiple clicks.\n",
              "      quickchartButtonEl.classList.add('colab-df-spinner');\n",
              "      try {\n",
              "        const charts = await google.colab.kernel.invokeFunction(\n",
              "            'suggestCharts', [key], {});\n",
              "      } catch (error) {\n",
              "        console.error('Error during call to suggestCharts:', error);\n",
              "      }\n",
              "      quickchartButtonEl.classList.remove('colab-df-spinner');\n",
              "      quickchartButtonEl.classList.add('colab-df-quickchart-complete');\n",
              "    }\n",
              "    (() => {\n",
              "      let quickchartButtonEl =\n",
              "        document.querySelector('#df-a184838e-4222-490e-a97a-3157cf510112 button');\n",
              "      quickchartButtonEl.style.display =\n",
              "        google.colab.kernel.accessAllowed ? 'block' : 'none';\n",
              "    })();\n",
              "  </script>\n",
              "</div>\n",
              "    </div>\n",
              "  </div>\n"
            ]
          },
          "metadata": {},
          "execution_count": 45
        }
      ]
    },
    {
      "cell_type": "code",
      "source": [
        "# run .describe() on categorical data\n",
        "ppp_df_desc_cat = ppp_df.describe(include='object')\n",
        "ppp_df_desc_cat"
      ],
      "metadata": {
        "colab": {
          "base_uri": "https://localhost:8080/",
          "height": 175
        },
        "id": "RQFCrf2y4TxF",
        "executionInfo": {
          "status": "ok",
          "timestamp": 1704993311408,
          "user_tz": 360,
          "elapsed": 2501,
          "user": {
            "displayName": "",
            "userId": ""
          }
        },
        "outputId": "d9196961-bf23-4de2-f46f-19efff89a80b"
      },
      "id": "RQFCrf2y4TxF",
      "execution_count": 46,
      "outputs": [
        {
          "output_type": "execute_result",
          "data": {
            "text/plain": [
              "                         BorrowerName BusinessType  LoanNumber ProjectState  \\\n",
              "count                          968521       967806      968525       968516   \n",
              "unique                         857334           25      968525           56   \n",
              "top     FIRST UNITED METHODIST CHURCH  Corporation  9547507704           CA   \n",
              "freq                               40       418313           1       130614   \n",
              "\n",
              "                                OriginatingLender  \n",
              "count                                      968525  \n",
              "unique                                       4236  \n",
              "top     JPMorgan Chase Bank, National Association  \n",
              "freq                                        53539  "
            ],
            "text/html": [
              "\n",
              "  <div id=\"df-0fdb1cac-727e-4a72-9717-a0223745fed1\" class=\"colab-df-container\">\n",
              "    <div>\n",
              "<style scoped>\n",
              "    .dataframe tbody tr th:only-of-type {\n",
              "        vertical-align: middle;\n",
              "    }\n",
              "\n",
              "    .dataframe tbody tr th {\n",
              "        vertical-align: top;\n",
              "    }\n",
              "\n",
              "    .dataframe thead th {\n",
              "        text-align: right;\n",
              "    }\n",
              "</style>\n",
              "<table border=\"1\" class=\"dataframe\">\n",
              "  <thead>\n",
              "    <tr style=\"text-align: right;\">\n",
              "      <th></th>\n",
              "      <th>BorrowerName</th>\n",
              "      <th>BusinessType</th>\n",
              "      <th>LoanNumber</th>\n",
              "      <th>ProjectState</th>\n",
              "      <th>OriginatingLender</th>\n",
              "    </tr>\n",
              "  </thead>\n",
              "  <tbody>\n",
              "    <tr>\n",
              "      <th>count</th>\n",
              "      <td>968521</td>\n",
              "      <td>967806</td>\n",
              "      <td>968525</td>\n",
              "      <td>968516</td>\n",
              "      <td>968525</td>\n",
              "    </tr>\n",
              "    <tr>\n",
              "      <th>unique</th>\n",
              "      <td>857334</td>\n",
              "      <td>25</td>\n",
              "      <td>968525</td>\n",
              "      <td>56</td>\n",
              "      <td>4236</td>\n",
              "    </tr>\n",
              "    <tr>\n",
              "      <th>top</th>\n",
              "      <td>FIRST UNITED METHODIST CHURCH</td>\n",
              "      <td>Corporation</td>\n",
              "      <td>9547507704</td>\n",
              "      <td>CA</td>\n",
              "      <td>JPMorgan Chase Bank, National Association</td>\n",
              "    </tr>\n",
              "    <tr>\n",
              "      <th>freq</th>\n",
              "      <td>40</td>\n",
              "      <td>418313</td>\n",
              "      <td>1</td>\n",
              "      <td>130614</td>\n",
              "      <td>53539</td>\n",
              "    </tr>\n",
              "  </tbody>\n",
              "</table>\n",
              "</div>\n",
              "    <div class=\"colab-df-buttons\">\n",
              "\n",
              "  <div class=\"colab-df-container\">\n",
              "    <button class=\"colab-df-convert\" onclick=\"convertToInteractive('df-0fdb1cac-727e-4a72-9717-a0223745fed1')\"\n",
              "            title=\"Convert this dataframe to an interactive table.\"\n",
              "            style=\"display:none;\">\n",
              "\n",
              "  <svg xmlns=\"http://www.w3.org/2000/svg\" height=\"24px\" viewBox=\"0 -960 960 960\">\n",
              "    <path d=\"M120-120v-720h720v720H120Zm60-500h600v-160H180v160Zm220 220h160v-160H400v160Zm0 220h160v-160H400v160ZM180-400h160v-160H180v160Zm440 0h160v-160H620v160ZM180-180h160v-160H180v160Zm440 0h160v-160H620v160Z\"/>\n",
              "  </svg>\n",
              "    </button>\n",
              "\n",
              "  <style>\n",
              "    .colab-df-container {\n",
              "      display:flex;\n",
              "      gap: 12px;\n",
              "    }\n",
              "\n",
              "    .colab-df-convert {\n",
              "      background-color: #E8F0FE;\n",
              "      border: none;\n",
              "      border-radius: 50%;\n",
              "      cursor: pointer;\n",
              "      display: none;\n",
              "      fill: #1967D2;\n",
              "      height: 32px;\n",
              "      padding: 0 0 0 0;\n",
              "      width: 32px;\n",
              "    }\n",
              "\n",
              "    .colab-df-convert:hover {\n",
              "      background-color: #E2EBFA;\n",
              "      box-shadow: 0px 1px 2px rgba(60, 64, 67, 0.3), 0px 1px 3px 1px rgba(60, 64, 67, 0.15);\n",
              "      fill: #174EA6;\n",
              "    }\n",
              "\n",
              "    .colab-df-buttons div {\n",
              "      margin-bottom: 4px;\n",
              "    }\n",
              "\n",
              "    [theme=dark] .colab-df-convert {\n",
              "      background-color: #3B4455;\n",
              "      fill: #D2E3FC;\n",
              "    }\n",
              "\n",
              "    [theme=dark] .colab-df-convert:hover {\n",
              "      background-color: #434B5C;\n",
              "      box-shadow: 0px 1px 3px 1px rgba(0, 0, 0, 0.15);\n",
              "      filter: drop-shadow(0px 1px 2px rgba(0, 0, 0, 0.3));\n",
              "      fill: #FFFFFF;\n",
              "    }\n",
              "  </style>\n",
              "\n",
              "    <script>\n",
              "      const buttonEl =\n",
              "        document.querySelector('#df-0fdb1cac-727e-4a72-9717-a0223745fed1 button.colab-df-convert');\n",
              "      buttonEl.style.display =\n",
              "        google.colab.kernel.accessAllowed ? 'block' : 'none';\n",
              "\n",
              "      async function convertToInteractive(key) {\n",
              "        const element = document.querySelector('#df-0fdb1cac-727e-4a72-9717-a0223745fed1');\n",
              "        const dataTable =\n",
              "          await google.colab.kernel.invokeFunction('convertToInteractive',\n",
              "                                                    [key], {});\n",
              "        if (!dataTable) return;\n",
              "\n",
              "        const docLinkHtml = 'Like what you see? Visit the ' +\n",
              "          '<a target=\"_blank\" href=https://colab.research.google.com/notebooks/data_table.ipynb>data table notebook</a>'\n",
              "          + ' to learn more about interactive tables.';\n",
              "        element.innerHTML = '';\n",
              "        dataTable['output_type'] = 'display_data';\n",
              "        await google.colab.output.renderOutput(dataTable, element);\n",
              "        const docLink = document.createElement('div');\n",
              "        docLink.innerHTML = docLinkHtml;\n",
              "        element.appendChild(docLink);\n",
              "      }\n",
              "    </script>\n",
              "  </div>\n",
              "\n",
              "\n",
              "<div id=\"df-fd8d1278-cd45-43e8-9501-8d6333f839be\">\n",
              "  <button class=\"colab-df-quickchart\" onclick=\"quickchart('df-fd8d1278-cd45-43e8-9501-8d6333f839be')\"\n",
              "            title=\"Suggest charts\"\n",
              "            style=\"display:none;\">\n",
              "\n",
              "<svg xmlns=\"http://www.w3.org/2000/svg\" height=\"24px\"viewBox=\"0 0 24 24\"\n",
              "     width=\"24px\">\n",
              "    <g>\n",
              "        <path d=\"M19 3H5c-1.1 0-2 .9-2 2v14c0 1.1.9 2 2 2h14c1.1 0 2-.9 2-2V5c0-1.1-.9-2-2-2zM9 17H7v-7h2v7zm4 0h-2V7h2v10zm4 0h-2v-4h2v4z\"/>\n",
              "    </g>\n",
              "</svg>\n",
              "  </button>\n",
              "\n",
              "<style>\n",
              "  .colab-df-quickchart {\n",
              "      --bg-color: #E8F0FE;\n",
              "      --fill-color: #1967D2;\n",
              "      --hover-bg-color: #E2EBFA;\n",
              "      --hover-fill-color: #174EA6;\n",
              "      --disabled-fill-color: #AAA;\n",
              "      --disabled-bg-color: #DDD;\n",
              "  }\n",
              "\n",
              "  [theme=dark] .colab-df-quickchart {\n",
              "      --bg-color: #3B4455;\n",
              "      --fill-color: #D2E3FC;\n",
              "      --hover-bg-color: #434B5C;\n",
              "      --hover-fill-color: #FFFFFF;\n",
              "      --disabled-bg-color: #3B4455;\n",
              "      --disabled-fill-color: #666;\n",
              "  }\n",
              "\n",
              "  .colab-df-quickchart {\n",
              "    background-color: var(--bg-color);\n",
              "    border: none;\n",
              "    border-radius: 50%;\n",
              "    cursor: pointer;\n",
              "    display: none;\n",
              "    fill: var(--fill-color);\n",
              "    height: 32px;\n",
              "    padding: 0;\n",
              "    width: 32px;\n",
              "  }\n",
              "\n",
              "  .colab-df-quickchart:hover {\n",
              "    background-color: var(--hover-bg-color);\n",
              "    box-shadow: 0 1px 2px rgba(60, 64, 67, 0.3), 0 1px 3px 1px rgba(60, 64, 67, 0.15);\n",
              "    fill: var(--button-hover-fill-color);\n",
              "  }\n",
              "\n",
              "  .colab-df-quickchart-complete:disabled,\n",
              "  .colab-df-quickchart-complete:disabled:hover {\n",
              "    background-color: var(--disabled-bg-color);\n",
              "    fill: var(--disabled-fill-color);\n",
              "    box-shadow: none;\n",
              "  }\n",
              "\n",
              "  .colab-df-spinner {\n",
              "    border: 2px solid var(--fill-color);\n",
              "    border-color: transparent;\n",
              "    border-bottom-color: var(--fill-color);\n",
              "    animation:\n",
              "      spin 1s steps(1) infinite;\n",
              "  }\n",
              "\n",
              "  @keyframes spin {\n",
              "    0% {\n",
              "      border-color: transparent;\n",
              "      border-bottom-color: var(--fill-color);\n",
              "      border-left-color: var(--fill-color);\n",
              "    }\n",
              "    20% {\n",
              "      border-color: transparent;\n",
              "      border-left-color: var(--fill-color);\n",
              "      border-top-color: var(--fill-color);\n",
              "    }\n",
              "    30% {\n",
              "      border-color: transparent;\n",
              "      border-left-color: var(--fill-color);\n",
              "      border-top-color: var(--fill-color);\n",
              "      border-right-color: var(--fill-color);\n",
              "    }\n",
              "    40% {\n",
              "      border-color: transparent;\n",
              "      border-right-color: var(--fill-color);\n",
              "      border-top-color: var(--fill-color);\n",
              "    }\n",
              "    60% {\n",
              "      border-color: transparent;\n",
              "      border-right-color: var(--fill-color);\n",
              "    }\n",
              "    80% {\n",
              "      border-color: transparent;\n",
              "      border-right-color: var(--fill-color);\n",
              "      border-bottom-color: var(--fill-color);\n",
              "    }\n",
              "    90% {\n",
              "      border-color: transparent;\n",
              "      border-bottom-color: var(--fill-color);\n",
              "    }\n",
              "  }\n",
              "</style>\n",
              "\n",
              "  <script>\n",
              "    async function quickchart(key) {\n",
              "      const quickchartButtonEl =\n",
              "        document.querySelector('#' + key + ' button');\n",
              "      quickchartButtonEl.disabled = true;  // To prevent multiple clicks.\n",
              "      quickchartButtonEl.classList.add('colab-df-spinner');\n",
              "      try {\n",
              "        const charts = await google.colab.kernel.invokeFunction(\n",
              "            'suggestCharts', [key], {});\n",
              "      } catch (error) {\n",
              "        console.error('Error during call to suggestCharts:', error);\n",
              "      }\n",
              "      quickchartButtonEl.classList.remove('colab-df-spinner');\n",
              "      quickchartButtonEl.classList.add('colab-df-quickchart-complete');\n",
              "    }\n",
              "    (() => {\n",
              "      let quickchartButtonEl =\n",
              "        document.querySelector('#df-fd8d1278-cd45-43e8-9501-8d6333f839be button');\n",
              "      quickchartButtonEl.style.display =\n",
              "        google.colab.kernel.accessAllowed ? 'block' : 'none';\n",
              "    })();\n",
              "  </script>\n",
              "</div>\n",
              "    </div>\n",
              "  </div>\n"
            ]
          },
          "metadata": {},
          "execution_count": 46
        }
      ]
    },
    {
      "cell_type": "markdown",
      "source": [
        "### Ask LLM to Analyze Data Summaries"
      ],
      "metadata": {
        "id": "6vHtRUdxcer6"
      },
      "id": "6vHtRUdxcer6"
    },
    {
      "cell_type": "code",
      "source": [
        "prompt = f\"\"\"\n",
        "You are a data scientist with experience creating Neo4j\n",
        "graph data models from tabular data. I am a developer who will be\n",
        "creating a Neo4j graph data model from the data in a single .csv file.\n",
        "\n",
        "I want you to perform a preliminary analysis on this data to help understand\n",
        "its characteristics before we brainstorm about the graph data model.\n",
        "\n",
        "The data in my .csv file contains information about financial loans made\n",
        "to businesses.\n",
        "\n",
        "The following is summary of the data features, data types, and missing values:\n",
        "{ppp_df_info}\n",
        "\n",
        "The following is a description of each feature in the data:\n",
        "1. BorrowerName contains the name of the Business that applied for the loan.\n",
        "It has the following distribution: {ppp_df_desc_cat['BorrowerName']}\n",
        "\n",
        "2. BusinessType contains the type of business (Corp, Partnership, LLC, etc.),\n",
        "It has the following distribution: {ppp_df_desc_cat['BusinessType']}\n",
        "\n",
        "3. LoanNumber contains the unique identifier for the loan.\n",
        "\n",
        "4. CurrentApprovalAmount contains the amount of the loan.\n",
        "It has the following distribution: {ppp_df_desc['CurrentApprovalAmount']}\n",
        "\n",
        "5. JobsReported contains the number of jobs the loan supports.\n",
        "It has the following distribution: {ppp_df_desc['JobsReported']}\n",
        "\n",
        "6. ProjectState contains the state where the funds will be used.\n",
        "It has the following distribution: {ppp_df_desc_cat['ProjectState']}\n",
        "\n",
        "7. OriginatingLender contains the lender that originated the loan.\n",
        "It has the following distribution: {ppp_df_desc_cat['OriginatingLender']}\n",
        "\n",
        "8. UTILITIES_PROCEED contains the amount of the loan the borrower said they will use to pay utilities.\n",
        "It has the following distribution: {ppp_df_desc['UTILITIES_PROCEED']}\n",
        "\n",
        "9. PAYROLL_PROCEED contains the amount of the loan the borrower said they will use for payroll.\n",
        "It has the following distribution: {ppp_df_desc['PAYROLL_PROCEED']}\n",
        "\n",
        "10. MORTGAGE_INTEREST_PROCEED contains the amount of the loan the borrower said they will use to pay mortgage interest.\n",
        "It has the following distribution: {ppp_df_desc['MORTGAGE_INTEREST_PROCEED']}\n",
        "\n",
        "11. RENT_PROCEED contains the amount of the loan the borrower said they will use to pay rent.\n",
        "It has the following distribution: {ppp_df_desc['RENT_PROCEED']}\n",
        "\n",
        "12. REFINANCE_EIDL_PROCEED, float, the amount of the loan the borrower said they will use to refinance an existing loan,\n",
        "It has the following distribution: {ppp_df_desc['REFINANCE_EIDL_PROCEED']}\n",
        "\n",
        "13. HEALTH_CARE_PROCEED, float, the amount of the loan the borrower said they will use to pay employee health care,\n",
        "It has the following distribution: {ppp_df_desc['HEALTH_CARE_PROCEED']}\n",
        "\n",
        "14. DEBT_INTEREST_PROCEED, float, the amount of the loan the borrower said they will use to pay debt interest,\n",
        "It has the following distribution: {ppp_df_desc['DEBT_INTEREST_PROCEED']}\n",
        "\n",
        "Provide me with your preliminary analysis of this data. What are important details about\n",
        "the data overall and the most important features? Do not return your suggestion for the Neo4j graph data model\n",
        "yet. We will do that in the next step.\n",
        "\"\"\""
      ],
      "metadata": {
        "id": "-yI-mfQjFLCX",
        "executionInfo": {
          "status": "ok",
          "timestamp": 1704993311408,
          "user_tz": 360,
          "elapsed": 2,
          "user": {
            "displayName": "",
            "userId": ""
          }
        }
      },
      "id": "-yI-mfQjFLCX",
      "execution_count": 47,
      "outputs": []
    },
    {
      "cell_type": "code",
      "source": [
        "gemini_chat_resp = gemini_chat.send_message(\n",
        "    content = prompt,\n",
        "    generation_config = gemini_parameters,\n",
        "    stream = False\n",
        ")\n",
        "\n",
        "print_markdown(gemini_chat_resp.text)"
      ],
      "metadata": {
        "colab": {
          "base_uri": "https://localhost:8080/",
          "height": 449
        },
        "id": "f1XroOtuNXcc",
        "executionInfo": {
          "status": "ok",
          "timestamp": 1704993318026,
          "user_tz": 360,
          "elapsed": 6619,
          "user": {
            "displayName": "",
            "userId": ""
          }
        },
        "outputId": "ff2c4b62-c718-4ee3-de44-a0bb87f3e811"
      },
      "id": "f1XroOtuNXcc",
      "execution_count": 48,
      "outputs": [
        {
          "output_type": "display_data",
          "data": {
            "text/plain": [
              "<IPython.core.display.Markdown object>"
            ],
            "text/markdown": "**Preliminary Analysis of the Loan Data:**\n\n**Overall:**\n\n* The dataset contains information about 968,525 financial loans made to businesses.\n* There are 14 features in the dataset, including the loan amount, number of jobs supported, loan purpose, and lender information.\n* Some features have missing values, such as `MORTGAGE_INTEREST_PROCEED` (95% missing) and `REFINANCE_EIDL_PROCEED` (97% missing).\n\n**Important Details:**\n\n* The total amount of loans approved is over $50 billion, with an average loan amount of $530,619.\n* The majority of loans are for amounts between $200,000 and $500,000.\n* The most common loan purpose is payroll, followed by utilities and rent.\n* The top lender is JPMorgan Chase Bank, National Association, which originated over 5% of the loans.\n\n**Most Important Features:**\n\n* **Loan Amount:** This is the amount of money that was approved for the loan. It is a key factor in determining the size and scope of the project that the loan will be used for.\n* **Number of Jobs Supported:** This is the number of jobs that the loan is expected to create or retain. It is an important measure of the economic impact of the loan.\n* **Loan Purpose:** This is the purpose for which the loan will be used. It can be used to understand the needs of the businesses that are receiving loans.\n* **Lender:** This is the financial institution that originated the loan. It can be used to track the distribution of loans across different lenders.\n\n**Conclusion:**\n\nThe data provides valuable insights into the financial loans made to businesses. The preliminary analysis highlights the key features of the data and their importance in understanding the lending landscape. This information will be useful in designing a Neo4j graph data model that can effectively capture the relationships and patterns within the data."
          },
          "metadata": {}
        }
      ]
    },
    {
      "cell_type": "code",
      "source": [
        "prompt = f\"\"\"\n",
        "That is a very helpful. Based upon your of the data in my .csv and your\n",
        "knowledge of high-quality Neo4j graph data models, I would like you to return your\n",
        "suggestion for translating the data in my .csv into a Neo4j graph data model.\n",
        "Include only nodes, relationships, and properties derived from\n",
        "the data in my .csv file.\n",
        "\n",
        "Once built, the Neo4j graph will be used to identify\n",
        "potential fraud. We have not identified fraudulent loans yet\n",
        "and so do not have that information in the data.\n",
        "\n",
        "Please return the following:\n",
        "Suggested Nodes and their properties, along with your reasoning for each\n",
        "Relationships and their properties, along with your reasoning for each\n",
        "\n",
        "Do not return any code to create the data model yet. I only want to\n",
        "focus on the proposed nodes, relationships, and properties with\n",
        "your explanation for why you suggested each.\n",
        "\"\"\""
      ],
      "metadata": {
        "id": "f4ZiUYjrNe3v",
        "executionInfo": {
          "status": "ok",
          "timestamp": 1704993318027,
          "user_tz": 360,
          "elapsed": 2,
          "user": {
            "displayName": "",
            "userId": ""
          }
        }
      },
      "id": "f4ZiUYjrNe3v",
      "execution_count": 49,
      "outputs": []
    },
    {
      "cell_type": "code",
      "source": [
        "gemini_chat_resp = gemini_chat.send_message(\n",
        "    content = prompt,\n",
        "    generation_config = gemini_parameters,\n",
        "    stream = False\n",
        ")\n",
        "\n",
        "print_markdown(gemini_chat_resp.text)"
      ],
      "metadata": {
        "colab": {
          "base_uri": "https://localhost:8080/",
          "height": 984
        },
        "id": "QTO0RRX-wkj9",
        "executionInfo": {
          "status": "ok",
          "timestamp": 1704993326089,
          "user_tz": 360,
          "elapsed": 8064,
          "user": {
            "displayName": "",
            "userId": ""
          }
        },
        "outputId": "b44fa99a-b072-473e-e671-35e7ac2a7207"
      },
      "id": "QTO0RRX-wkj9",
      "execution_count": 50,
      "outputs": [
        {
          "output_type": "display_data",
          "data": {
            "text/plain": [
              "<IPython.core.display.Markdown object>"
            ],
            "text/markdown": "**Suggested Nodes:**\n\n* **Business:**\n    * Properties:\n        * Name\n        * Type\n        * State\n* **Loan:**\n    * Properties:\n        * Loan Number\n        * Amount\n        * Purpose\n        * Approval Date\n* **Lender:**\n    * Properties:\n        * Name\n        * Location\n\n**Relationships:**\n\n* **APPLIED_FOR:**\n    * From: Business\n    * To: Loan\n    * Properties:\n        * Date\n* **ORIGINATED:**\n    * From: Lender\n    * To: Loan\n    * Properties:\n        * Date\n* **USED_FOR:**\n    * From: Loan\n    * To: Purpose\n    * Properties:\n        * Amount\n\n**Reasoning:**\n\n* **Nodes:**\n    * **Business:** This node represents the business that applied for the loan. Its properties include the business name, type, and state.\n    * **Loan:** This node represents the loan itself. Its properties include the loan number, amount, purpose, and approval date.\n    * **Lender:** This node represents the financial institution that originated the loan. Its properties include the lender name and location.\n\n* **Relationships:**\n    * **APPLIED_FOR:** This relationship represents the application process for the loan. It connects a business to the loan that they applied for.\n    * **ORIGINATED:** This relationship represents the origination of the loan. It connects a lender to the loan that they originated.\n    * **USED_FOR:** This relationship represents the purpose of the loan. It connects a loan to the purpose for which it was used.\n\nThis data model captures the key entities and relationships in the loan data. It can be used to identify potential fraud by analyzing the connections between businesses, loans, and lenders. For example, you could identify businesses that have applied for multiple loans from different lenders in a short period of time, or lenders that have originated a large number of loans with missing or incomplete information.\n\nYou can further enhance the data model by adding additional nodes and relationships to capture more information from the data. For example, you could add a `Person` node to represent the individuals involved in the loan process, or a `Document` node to store loan-related documents."
          },
          "metadata": {}
        }
      ]
    },
    {
      "cell_type": "code",
      "source": [
        "prompt = f\"\"\"\n",
        "That is a very good start and very helpful.\n",
        "\n",
        "Based on your experience building high-quality graph data\n",
        "models, are there any improvements you would suggest?\n",
        "\n",
        "For example, are there any node properties that should\n",
        "be converted to separate, additional nodes in the data model?\n",
        "\n",
        "Please return an updated graph data model with your suggested improvements.\n",
        "Reference only features available in the original .csv file.\n",
        "\n",
        "Do not return any code to create the data model yet. I only want to\n",
        "focus on the proposed nodes, relationships.\n",
        "\"\"\""
      ],
      "metadata": {
        "id": "aO7zq6fdjGSD",
        "executionInfo": {
          "status": "ok",
          "timestamp": 1704993326089,
          "user_tz": 360,
          "elapsed": 2,
          "user": {
            "displayName": "",
            "userId": ""
          }
        }
      },
      "id": "aO7zq6fdjGSD",
      "execution_count": 51,
      "outputs": []
    },
    {
      "cell_type": "code",
      "source": [
        "gemini_chat_resp = gemini_chat.send_message(\n",
        "    content = prompt,\n",
        "    generation_config = gemini_parameters,\n",
        "    stream = False\n",
        ")\n",
        "\n",
        "print_markdown(gemini_chat_resp.text)"
      ],
      "metadata": {
        "id": "PtK5E4yBjGZ_",
        "colab": {
          "base_uri": "https://localhost:8080/",
          "height": 955
        },
        "executionInfo": {
          "status": "ok",
          "timestamp": 1704993332077,
          "user_tz": 360,
          "elapsed": 5989,
          "user": {
            "displayName": "",
            "userId": ""
          }
        },
        "outputId": "2ba20302-2053-472e-d83e-5709ac394ea7"
      },
      "id": "PtK5E4yBjGZ_",
      "execution_count": 52,
      "outputs": [
        {
          "output_type": "display_data",
          "data": {
            "text/plain": [
              "<IPython.core.display.Markdown object>"
            ],
            "text/markdown": "**Improved Graph Data Model:**\n\n**Nodes:**\n\n* **Business:**\n    * Properties:\n        * Name\n        * Type\n        * State\n* **Loan:**\n    * Properties:\n        * Loan Number\n        * Amount\n        * Purpose\n        * Approval Date\n* **Lender:**\n    * Properties:\n        * Name\n        * Location\n* **Purpose:**\n    * Properties:\n        * Description\n\n**Relationships:**\n\n* **APPLIED_FOR:**\n    * From: Business\n    * To: Loan\n    * Properties:\n        * Date\n* **ORIGINATED:**\n    * From: Lender\n    * To: Loan\n    * Properties:\n        * Date\n* **USED_FOR:**\n    * From: Loan\n    * To: Purpose\n    * Properties:\n        * Amount\n\n**Improvements:**\n\n* Extracted the loan purpose into a separate `Purpose` node. This allows for more flexibility in representing the purpose of the loan, as it can now have multiple purposes.\n* Added a `Description` property to the `Purpose` node to provide more context about the purpose of the loan.\n\nThis improved data model provides a more granular representation of the loan data, making it easier to analyze and identify potential fraud. For example, you could now identify loans that have been used for multiple purposes, or loans that have been originated by lenders that are known to be involved in fraudulent activities.\n\nYou can further enhance the data model by adding additional nodes and relationships to capture more information from the data. For example, you could add a `Person` node to represent the individuals involved in the loan process, or a `Document` node to store loan-related documents."
          },
          "metadata": {}
        }
      ]
    },
    {
      "cell_type": "markdown",
      "source": [
        "# Next Steps\n",
        "This is an initial, draft workflow that I am continuing to improve. There are several next steps I plan to add, including:\n",
        "* Asking the LLM how to prepare and pre-process the source data\n",
        "* Asking the LLM how to best ingest the data into Neo4j\n",
        "* Asking the LLM (multi-modal) to produce a visual graph data model\n",
        "* Refactor the code using LangChain or LlamaIndex\n",
        "* And others...\n",
        "\n",
        "As always, be sure to verify any output from an LLM especially where it can impact a production system. While this notebook focuses on genrating ideas, for any code or technical details related to Neo4j always reference official Neo4j documentation."
      ],
      "metadata": {
        "id": "MH33tIpmesr9"
      },
      "id": "MH33tIpmesr9"
    },
    {
      "cell_type": "code",
      "source": [],
      "metadata": {
        "id": "RErUJEzjeso2"
      },
      "id": "RErUJEzjeso2",
      "execution_count": null,
      "outputs": []
    },
    {
      "cell_type": "code",
      "source": [],
      "metadata": {
        "id": "EQnkNwy0eskZ"
      },
      "id": "EQnkNwy0eskZ",
      "execution_count": null,
      "outputs": []
    },
    {
      "cell_type": "code",
      "source": [],
      "metadata": {
        "id": "9AjWT4J_XX5C"
      },
      "id": "9AjWT4J_XX5C",
      "execution_count": null,
      "outputs": []
    }
  ],
  "metadata": {
    "kernelspec": {
      "display_name": "Python 3",
      "language": "python",
      "name": "python3"
    },
    "language_info": {
      "codemirror_mode": {
        "name": "ipython",
        "version": 3
      },
      "file_extension": ".py",
      "mimetype": "text/x-python",
      "name": "python",
      "nbconvert_exporter": "python",
      "pygments_lexer": "ipython3",
      "version": "3.10.10"
    },
    "colab": {
      "provenance": []
    }
  },
  "nbformat": 4,
  "nbformat_minor": 5
}