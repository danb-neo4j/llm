{
 "cells": [
  {
   "cell_type": "markdown",
   "id": "8b3fd187-4f40-4e58-b4bb-f5e250c8502b",
   "metadata": {},
   "source": [
    "# Let Us Help You: Using the PaLM 2 and Cody LLMs for Graph Data Science\n",
    "*Last Updated 16 October 2023*\n",
    "\n",
    "This notebook demonstrates how to use Google's PaLM 2 and Cody LLMs together in a single graph data science workflow. The data and use case are leveraged from the Road to NODES 2023 Presentation: [Neo4j GDS and GenAI](https://github.com/danb-neo4j/NODES2023_GDS_GenAI)."
   ]
  },
  {
   "cell_type": "markdown",
   "id": "7ca925a5-9d1c-427b-9a0b-462cce121b19",
   "metadata": {},
   "source": [
    "# Import Libraries"
   ]
  },
  {
   "cell_type": "code",
   "execution_count": 1,
   "id": "00a05298-dfd8-4159-82aa-801aa679e7ee",
   "metadata": {},
   "outputs": [],
   "source": [
    "# core libraries\n",
    "import os\n",
    "import time\n",
    "import logging\n",
    "import numpy as np\n",
    "import pandas as pd\n",
    "\n",
    "pd.set_option('display.max_columns', None)\n",
    "pd.set_option('display.max_rows', None)\n",
    "pd.set_option('display.max_colwidth', None)\n",
    "\n",
    "import json\n",
    "import seaborn as sns\n",
    "import matplotlib.pyplot as plt"
   ]
  },
  {
   "cell_type": "code",
   "execution_count": 2,
   "id": "eaeb0743-2ed5-44c9-9276-63c388bef2ba",
   "metadata": {},
   "outputs": [],
   "source": [
    "# libraries to display GCP LLM output \n",
    "from IPython.display import Markdown, display"
   ]
  },
  {
   "cell_type": "code",
   "execution_count": 3,
   "id": "7631b9f1-55b7-4f1b-9cd5-0c93bf47d9fa",
   "metadata": {
    "collapsed": true,
    "jupyter": {
     "outputs_hidden": true
    },
    "tags": []
   },
   "outputs": [
    {
     "name": "stderr",
     "output_type": "stream",
     "text": [
      "2023-10-14 18:35:26.586545: I tensorflow/core/platform/cpu_feature_guard.cc:182] This TensorFlow binary is optimized to use available CPU instructions in performance-critical operations.\n",
      "To enable the following instructions: AVX2 FMA, in other operations, rebuild TensorFlow with the appropriate compiler flags.\n"
     ]
    }
   ],
   "source": [
    "# gcp and vertex AI \n",
    "from google.cloud import aiplatform\n",
    "import vertexai\n",
    "from vertexai.preview.language_models import TextGenerationModel, ChatModel, CodeGenerationModel, CodeChatModel"
   ]
  },
  {
   "cell_type": "code",
   "execution_count": 4,
   "id": "4dfcd5c9-1fc2-41d1-929e-02aaead36803",
   "metadata": {},
   "outputs": [],
   "source": [
    "# library to protect secrets\n",
    "import getpass"
   ]
  },
  {
   "cell_type": "code",
   "execution_count": 5,
   "id": "5e901542-a55e-47b7-96a7-f4f9b0a77a31",
   "metadata": {},
   "outputs": [
    {
     "name": "stdout",
     "output_type": "stream",
     "text": [
      "Successfully imported GraphDataScience\n"
     ]
    }
   ],
   "source": [
    "# install or import Neo4j GraphDataScience library\n",
    "try: \n",
    "  from graphdatascience import GraphDataScience\n",
    "  print('Successfully imported GraphDataScience')\n",
    "except ModuleNotFoundError:\n",
    "  !pip install graphdatascience\n",
    "  from graphdatascience import GraphDataScience\n",
    "  print('installed and imported GraphDataScience')"
   ]
  },
  {
   "cell_type": "code",
   "execution_count": 6,
   "id": "8f38b3ed-e81d-4a87-a146-30d496f872e1",
   "metadata": {},
   "outputs": [],
   "source": [
    "# limit warnings \n",
    "import warnings\n",
    "warnings.filterwarnings(\"ignore\")"
   ]
  },
  {
   "cell_type": "markdown",
   "id": "9e400fcd-886a-421e-b2ac-e3bc39c0b450",
   "metadata": {},
   "source": [
    "# Conect and Authenticate to GCP\n",
    "This will enable us to access GDS resources, including the PaLM 2 LLM models."
   ]
  },
  {
   "cell_type": "code",
   "execution_count": 9,
   "id": "ad86c81a-4456-4b4b-a055-ef036df3f8d7",
   "metadata": {},
   "outputs": [],
   "source": [
    "# set GCP project id\n",
    "PROJECT_ID = getpass.getpass()"
   ]
  },
  {
   "cell_type": "code",
   "execution_count": 10,
   "id": "084ee5fc-6728-41fc-b8a7-db4d60667472",
   "metadata": {},
   "outputs": [],
   "source": [
    "# set GCP region \n",
    "REGION = getpass.getpass()"
   ]
  },
  {
   "cell_type": "code",
   "execution_count": 11,
   "id": "8fac3964-4e01-472e-82bf-a8809d577208",
   "metadata": {},
   "outputs": [],
   "source": [
    "# initialize vertexai wth ID and region \n",
    "vertexai.init(project=PROJECT_ID, location=REGION)"
   ]
  },
  {
   "cell_type": "code",
   "execution_count": 55,
   "id": "9c358536-68dc-493e-8991-7f9a186cbf3b",
   "metadata": {},
   "outputs": [],
   "source": [
    "# run the below in the jupyter terminal to authenticate your google account\n",
    "# ! gcloud auth login"
   ]
  },
  {
   "cell_type": "code",
   "execution_count": 12,
   "id": "7caae977-cc2f-4926-9c3d-80aaaabb255f",
   "metadata": {},
   "outputs": [
    {
     "name": "stdout",
     "output_type": "stream",
     "text": [
      "Updated property [core/project].\n"
     ]
    }
   ],
   "source": [
    "! gcloud config set project {PROJECT_ID}"
   ]
  },
  {
   "cell_type": "markdown",
   "id": "fa609cc1-0120-4022-9d39-8fd3c6eb5854",
   "metadata": {
    "tags": []
   },
   "source": [
    "# Instantiate LLM Models\n",
    "In the following section we will instantiate and test four types of Google PaLM 2 and Cody models, each of which is fine-tuned for a specific task:\n",
    "* Text Generation\n",
    "* Text Chat\n",
    "* Code Generation\n",
    "* Code Chat\n",
    "\n",
    "All four of the modesl we instantiate will be the most recent 32k versions, as of Google Next 2023 in August 2023. \n",
    "\n",
    "Throughout this notebook we will experiment with these speciality models to see how they perform in different situations. "
   ]
  },
  {
   "cell_type": "code",
   "execution_count": 13,
   "id": "2cb051db-3dc1-44ff-9e38-51e075358862",
   "metadata": {},
   "outputs": [],
   "source": [
    "# function to print markdown returned by GCP models\n",
    "def print_markdown(string):\n",
    "    display(Markdown(string))"
   ]
  },
  {
   "cell_type": "markdown",
   "id": "f4b842c4-aa40-4bda-880b-a8d46cd9599e",
   "metadata": {},
   "source": [
    "## Text Bison 32k Text Generation Model\n",
    "[Link to documentation](https://cloud.google.com/vertex-ai/docs/generative-ai/model-reference/text)\n",
    "\n",
    "*The text-bison foundation model is optimized for a variety of natural language tasks such as sentiment analysis, entity extraction, and content creation. The types of content that the text-bison model can create include document summaries, answers to questions, and labels that classify content.*"
   ]
  },
  {
   "cell_type": "code",
   "execution_count": 54,
   "id": "83bb8835-1765-407c-868a-3a1f25f2ed7b",
   "metadata": {},
   "outputs": [],
   "source": [
    "# instantiate a model object\n",
    "textGen_model = TextGenerationModel.from_pretrained(\"text-bison-32k\")"
   ]
  },
  {
   "cell_type": "code",
   "execution_count": 55,
   "id": "5e763688-f640-4aac-bdaf-fcdbf0dffc0b",
   "metadata": {},
   "outputs": [],
   "source": [
    "# create a parameter dictionary \n",
    "textGen_parameters = {\n",
    "    \"temperature\": 0.2,  # default is 0.0; 0.2 is a recommended start\n",
    "    \"max_output_tokens\": 8192,  \n",
    "    \"top_p\": 0.8,  \n",
    "    \"top_k\": 40,  \n",
    "}"
   ]
  },
  {
   "cell_type": "markdown",
   "id": "d1ea9d78-0f01-435b-a3b3-6a16e87e80bb",
   "metadata": {},
   "source": [
    "## Chat Bison 32k Chat Model\n",
    "[Link to documentation](https://cloud.google.com/vertex-ai/docs/generative-ai/model-reference/text-chat)\n",
    "\n",
    "*The chat-bison foundation model is a large language model (LLM) that excels at language understanding, language generation, and conversations. This chat model is fine-tuned to conduct natural multi-turn conversations, and is ideal for text tasks about code that require back-and-forth interactions.*"
   ]
  },
  {
   "cell_type": "code",
   "execution_count": 17,
   "id": "897a83c7-3a4c-45d7-9c00-e9332c75b916",
   "metadata": {},
   "outputs": [],
   "source": [
    "# instantiate the model object\n",
    "textChat_model = ChatModel.from_pretrained(\"chat-bison-32k\")"
   ]
  },
  {
   "cell_type": "code",
   "execution_count": 18,
   "id": "558a4716-15e9-4357-aab3-c2a283177379",
   "metadata": {},
   "outputs": [],
   "source": [
    "# create a parameter dictionary \n",
    "textChat_parameters = {\n",
    "    \"temperature\": 0.2,  # default is 0.0; 0.2 is a recommended start\n",
    "    \"max_output_tokens\": 8192,  \n",
    "    \"top_p\": 0.8,  \n",
    "    \"top_k\": 40,  \n",
    "}"
   ]
  },
  {
   "cell_type": "markdown",
   "id": "6d956eba-f6b7-4d15-ac48-e1e54c131ffe",
   "metadata": {},
   "source": [
    "## Code Bison 32k Code Generation Model\n",
    "[Link to documentation](https://cloud.google.com/vertex-ai/docs/generative-ai/model-reference/code-generation)\n",
    "\n",
    "*code-bison is a foundation model that generates code based, including functions, web pages, and unit tests, based upon a natural language description. This model is ideal for interactions that require a single interaction with the model, as compared to the chat version specified below.* "
   ]
  },
  {
   "cell_type": "code",
   "execution_count": 82,
   "id": "88692d7e-11ec-461e-ab8b-96ae6583122f",
   "metadata": {},
   "outputs": [],
   "source": [
    "# instantiate a model object\n",
    "codeGen_model = CodeGenerationModel.from_pretrained(\"code-bison-32k\")"
   ]
  },
  {
   "cell_type": "code",
   "execution_count": 83,
   "id": "dfb3118c-8bb7-4968-9e81-96a4825ee554",
   "metadata": {},
   "outputs": [],
   "source": [
    "# create a parameter dictionary \n",
    "codeGen_parameters = {\n",
    "    \"temperature\": 0.2, # same as the default value \n",
    "    \"max_output_tokens\": 8192\n",
    "}"
   ]
  },
  {
   "cell_type": "markdown",
   "id": "5e6fcb74-0ed4-4cf1-9160-e5d7100fec60",
   "metadata": {},
   "source": [
    "## CodeChat Bison 32k Code Chat Model\n",
    "[Link to documentation](https://cloud.google.com/vertex-ai/docs/generative-ai/model-reference/code-chat)\n",
    "\n",
    "*codechat-bison is a foundation model that supports multi-turn conversations that are specialized for code. The model allows developers to chat with a chatbot for help with code-related questions. The code chat API is ideal for code tasks that are completed with back-and-forth interactions so you can engage in a continuous conversation.*"
   ]
  },
  {
   "cell_type": "code",
   "execution_count": 32,
   "id": "cafc032c-5771-43bd-87e2-fc7b6197b05f",
   "metadata": {},
   "outputs": [],
   "source": [
    "# instantiate the codechat model object\n",
    "codeChat_model = CodeChatModel.from_pretrained('codechat-bison-32k')"
   ]
  },
  {
   "cell_type": "code",
   "execution_count": 33,
   "id": "27e95648-535c-4bb4-9ae3-661ba3992836",
   "metadata": {},
   "outputs": [],
   "source": [
    "# create a parameter object \n",
    "codeChat_parameters = {\n",
    "        \"temperature\": 0.2, # same as the default value\n",
    "        \"max_output_tokens\": 8192\n",
    "}"
   ]
  },
  {
   "cell_type": "code",
   "execution_count": 86,
   "id": "f55dccc5-8e29-4623-89ca-b6bcb2ddc8a0",
   "metadata": {},
   "outputs": [],
   "source": [
    "# start a chat\n",
    "codeChat_obj = codeChat_model.start_chat()"
   ]
  },
  {
   "cell_type": "markdown",
   "id": "9c1794ca-110b-4d1b-8eaa-1c5ce05ac946",
   "metadata": {
    "tags": []
   },
   "source": [
    "# Connect to Neo4j AuraDS Database\n",
    "We will use getpass below to protect connection and authentication details."
   ]
  },
  {
   "cell_type": "code",
   "execution_count": 45,
   "id": "15ecde1d-c502-42b5-a92d-236fdf6d5308",
   "metadata": {},
   "outputs": [
    {
     "name": "stdin",
     "output_type": "stream",
     "text": [
      " ········\n"
     ]
    }
   ],
   "source": [
    "# AuraDS host link \n",
    "HOST = getpass.getpass()"
   ]
  },
  {
   "cell_type": "code",
   "execution_count": 46,
   "id": "56a830b8-b014-4bce-b915-050497426cca",
   "metadata": {},
   "outputs": [
    {
     "name": "stdin",
     "output_type": "stream",
     "text": [
      " ········\n"
     ]
    }
   ],
   "source": [
    "# AuraDS database username \n",
    "USERNAME = getpass.getpass()"
   ]
  },
  {
   "cell_type": "code",
   "execution_count": 47,
   "id": "b27e8c97-f040-4bc7-ba68-4ebee569961e",
   "metadata": {},
   "outputs": [
    {
     "name": "stdin",
     "output_type": "stream",
     "text": [
      " ········\n"
     ]
    }
   ],
   "source": [
    "# AuraDS password\n",
    "NEO4J_PASSWORD = getpass.getpass()"
   ]
  },
  {
   "cell_type": "code",
   "execution_count": 48,
   "id": "56d441cc-2ca7-48b2-adfa-66ebbad3271f",
   "metadata": {},
   "outputs": [
    {
     "name": "stdout",
     "output_type": "stream",
     "text": [
      "Neo4j GDS Version: 2.4.7+35\n"
     ]
    }
   ],
   "source": [
    "# connect to AuraDS and confirm connection via GDS version \n",
    "gds = GraphDataScience(HOST, auth=(USERNAME, NEO4J_PASSWORD), aura_ds=True)\n",
    "print('Neo4j GDS Version:', gds.version())"
   ]
  },
  {
   "cell_type": "markdown",
   "id": "61b01b26-14ce-4c60-8c43-e255ca9c74bc",
   "metadata": {},
   "source": [
    "# Ask LLM for High-Level Analytic Guidance\n",
    "First we will ask the LLM for high-level guidance about analyzing the LLM's answers. We will use the `text-bison` model here because we only need a single response at this point. As we begin to perform different analyses, we will switch to `chat-bison` for question and answering. "
   ]
  },
  {
   "cell_type": "code",
   "execution_count": 58,
   "id": "9ff2b621-6693-4b84-ba8d-d9d4c76059cd",
   "metadata": {},
   "outputs": [
    {
     "data": {
      "text/markdown": [
       " Here are some high-level approaches for analyzing the (a:Assistant) responses with the goal of understanding how well the LLM is performing and how we may aim to improve the application:\n",
       "\n",
       "### Traditional Approaches:\n",
       "\n",
       "- **Sentiment Analysis**: Analyze the sentiment of the (a:Assistant) responses to understand the overall user satisfaction with the LLM's performance. This can be done by using traditional sentiment analysis techniques such as the VADER (Valence Aware Dictionary and sEntiment Reasoner) algorithm.\n",
       "\n",
       "- **Topic Modeling**: Apply topic modeling techniques such as Latent Dirichlet Allocation (LDA) to identify the main topics discussed in the conversations. This can help understand the areas where the LLM is performing well and where it needs improvement.\n",
       "\n",
       "- **Named Entity Recognition**: Use named entity recognition techniques to identify important entities mentioned in the conversations, such as specific Neo4j Graph Data Science library functions or concepts. This can help understand the specific areas where users are seeking assistance from the LLM.\n",
       "\n",
       "### Graph-based Approaches:\n",
       "\n",
       "- **Network Analysis**: Represent the conversations as a graph where nodes represent (m:Message)s and (a:Assistant)s, and edges represent the \"NEXT\" relationship between them. Analyze the resulting graph to identify patterns, such as the most frequent conversation paths or the most frequently asked questions.\n",
       "\n",
       "- **Community Detection**: Apply community detection algorithms to identify groups of conversations that are topically similar. This can help understand the different areas of interest among users and how the LLM is addressing them.\n",
       "\n",
       "- **Link Prediction**: Use link prediction algorithms to predict the next (a:Assistant) response given a sequence of (m:Message)s. This can help evaluate the LLM's ability to generate coherent and contextually relevant responses.\n",
       "\n",
       "These are just a few examples of approaches that can be used to analyze the (a:Assistant) responses in the Neo4j graph database. The specific approach or combination of approaches to use will depend on the specific goals and requirements of the analysis."
      ],
      "text/plain": [
       "<IPython.core.display.Markdown object>"
      ]
     },
     "metadata": {},
     "output_type": "display_data"
    }
   ],
   "source": [
    "# test the model with a response \n",
    "message_text = \"\"\"\n",
    "You are an experienced graph data scientist who works at Neo4j and are known\n",
    "for providing helpful advice.\n",
    "\n",
    "Help me brainstorm approaches to analyze data from an LLM application I am logging in a Neo4j graph database. \n",
    "Applicaiton users ask questions to the LLM about the Neo4j Graph Data Science library,\n",
    "and the LLM answers those questions with help from context documentation, which is contained in the same Neo4j database. \n",
    "\n",
    "The Neo4j database logs user interactions with the LLM via the following graph data model:\n",
    "(s:Session)-[HAS_CONVERSATION]->(c:Conversation)-[FIRST]->(m:Message)-[NEXT]->(a:Assistant)\n",
    "\n",
    "The (m:Message) nodes represent user questions to the LLM and the (a:Assistant) nodes\n",
    "represent the LLM's response. For each (c:Conversation) the pattern (m:Message)-[NEXT]->(a:Assistant) \n",
    "will repeat for as long as the user continues the conversation.\n",
    "\n",
    "A session can have multiple conversations, and a conversation can have many messages. \n",
    "Each message can be connected to up to 10 context Documents as follows:\n",
    "(m:Message)-[HAS_CONTEXT]->(d:Document)\n",
    "\n",
    "Messages can, and often do, share context Documents.\n",
    "\n",
    "Provide me with high-level traditional and graph-based approaches for analyzing the (a:Assistant) responses\n",
    "with the goal of understanding how well the LLM is performing and how we may aim\n",
    "to improve the application.\n",
    "\"\"\"\n",
    "\n",
    "textGen_response = textGen_model.predict(\n",
    "    message_text,\n",
    "    **textGen_parameters\n",
    ")\n",
    "\n",
    "print_markdown(textGen_response.text)"
   ]
  },
  {
   "cell_type": "markdown",
   "id": "196dc93e-43ca-4ce1-8d16-7a022f47d9fa",
   "metadata": {},
   "source": [
    "# Analyze LLM Responses"
   ]
  },
  {
   "cell_type": "markdown",
   "id": "bf7a48f7-ba66-41b3-94bf-ebe4ab74c47e",
   "metadata": {},
   "source": [
    "## Conversations per User Session \n",
    "This statistic will calculate the number of distinct conversation a user has per session. We are calculating it to identify how users are broadly interacting with the Agent Neo application. "
   ]
  },
  {
   "cell_type": "markdown",
   "id": "39388cbb-753b-40d3-a825-8bbeeed2df80",
   "metadata": {},
   "source": [
    "### Generate the Statistics"
   ]
  },
  {
   "cell_type": "code",
   "execution_count": 70,
   "id": "1b00f0b9-f6b4-4635-84b0-47027f6510f4",
   "metadata": {},
   "outputs": [
    {
     "data": {
      "text/html": [
       "<div>\n",
       "<style scoped>\n",
       "    .dataframe tbody tr th:only-of-type {\n",
       "        vertical-align: middle;\n",
       "    }\n",
       "\n",
       "    .dataframe tbody tr th {\n",
       "        vertical-align: top;\n",
       "    }\n",
       "\n",
       "    .dataframe thead th {\n",
       "        text-align: right;\n",
       "    }\n",
       "</style>\n",
       "<table border=\"1\" class=\"dataframe\">\n",
       "  <thead>\n",
       "    <tr style=\"text-align: right;\">\n",
       "      <th></th>\n",
       "    </tr>\n",
       "  </thead>\n",
       "  <tbody>\n",
       "  </tbody>\n",
       "</table>\n",
       "</div>"
      ],
      "text/plain": [
       "Empty DataFrame\n",
       "Columns: []\n",
       "Index: []"
      ]
     },
     "execution_count": 70,
     "metadata": {},
     "output_type": "execute_result"
    }
   ],
   "source": [
    "# update conversation_count property on Session nodes\n",
    "gds.run_cypher('''\n",
    "MATCH (s:Session)-[r:HAS_CONVERSATION]->(c:Conversation)\n",
    "WITH s, count(c) AS conversation_count\n",
    "SET s.conversation_count = conversation_count\n",
    "''')"
   ]
  },
  {
   "cell_type": "markdown",
   "id": "23982c2c-a015-4cbe-8116-ffab427286d2",
   "metadata": {},
   "source": [
    "### Analyze Statistics"
   ]
  },
  {
   "cell_type": "code",
   "execution_count": 93,
   "id": "7689be3f-1676-459d-8e2c-cf1bfd468cca",
   "metadata": {},
   "outputs": [
    {
     "data": {
      "text/plain": [
       "(69, 2)"
      ]
     },
     "execution_count": 93,
     "metadata": {},
     "output_type": "execute_result"
    }
   ],
   "source": [
    "# generate dataframe with sessions and conversation count\n",
    "session_count = gds.run_cypher('''\n",
    "MATCH (s:Session) \n",
    "RETURN \n",
    "    s.id AS id,\n",
    "    s.conversation_count as conversation_count\n",
    "''')\n",
    "\n",
    "session_count.shape"
   ]
  },
  {
   "cell_type": "code",
   "execution_count": 94,
   "id": "09a2ef53-8158-4761-ad28-2f04da49e358",
   "metadata": {},
   "outputs": [
    {
     "data": {
      "text/plain": [
       "count    69.0\n",
       "mean      1.0\n",
       "std       1.0\n",
       "min       1.0\n",
       "25%       1.0\n",
       "50%       1.0\n",
       "75%       1.0\n",
       "90%       2.0\n",
       "95%       3.0\n",
       "99%       5.0\n",
       "99.9%     6.0\n",
       "max       6.0\n",
       "Name: conversation_count, dtype: float64"
      ]
     },
     "execution_count": 94,
     "metadata": {},
     "output_type": "execute_result"
    }
   ],
   "source": [
    "# generate a distribution \n",
    "session_dist = session_count['conversation_count'].describe(percentiles=[0.25, 0.5, 0.75, 0.9, 0.95, 0.99, 0.999]).round()\n",
    "session_dist"
   ]
  },
  {
   "cell_type": "code",
   "execution_count": 95,
   "id": "76c84196-42f2-40a4-b9a1-f8930a8ca061",
   "metadata": {},
   "outputs": [
    {
     "data": {
      "image/png": "[encoded data removed]",
      "text/plain": [
       "<Figure size 640x480 with 1 Axes>"
      ]
     },
     "metadata": {},
     "output_type": "display_data"
    }
   ],
   "source": [
    "# plot the distribution \n",
    "sns.histplot(data=session_count, x='conversation_count')\n",
    "plt.title('Distribution of Session Conversation Counts')\n",
    "plt.show()"
   ]
  },
  {
   "cell_type": "markdown",
   "id": "a9f0c225-c55b-4344-9083-828b08877f45",
   "metadata": {},
   "source": [
    "### Ask LLM for Interpretation"
   ]
  },
  {
   "cell_type": "code",
   "execution_count": 96,
   "id": "d77711a2-0df1-4648-9992-d31f599a9261",
   "metadata": {},
   "outputs": [],
   "source": [
    "# start chat with a context prompt\n",
    "textChat_obj = textChat_model.start_chat(\n",
    "    context=\"You are an experienced graph data scientist who works at Neo4j.\"\n",
    ")"
   ]
  },
  {
   "cell_type": "code",
   "execution_count": 97,
   "id": "c92bdbdf-7c11-4fd9-b9ca-588b0581614b",
   "metadata": {},
   "outputs": [
    {
     "data": {
      "text/markdown": [
       " The distribution of session conversation counts shows that the majority of users (69%) have only one conversation per session. The mean and median number of conversations per session is also 1, indicating that the distribution is skewed towards users having few conversations per session. \n",
       "\n",
       "This could be interpreted in a few ways. One possibility is that users are not finding the application engaging enough to have multiple conversations per session. Another possibility is that the application is not providing users with enough value to warrant multiple conversations per session. \n",
       "\n",
       "To improve the application and user experience, you could consider ways to make the application more engaging and valuable to users. This could include adding new features, improving the user interface, or providing more relevant content. You could also consider ways to encourage users to have multiple conversations per session, such as by offering incentives or rewards."
      ],
      "text/plain": [
       "<IPython.core.display.Markdown object>"
      ]
     },
     "metadata": {},
     "output_type": "display_data"
    }
   ],
   "source": [
    "# ask ChatBison for its interpretation of the distribution \n",
    "prompt = f\"\"\"\n",
    "Help me interpret the results of the following Session Conversation \n",
    "Distribution: {session_dist}\n",
    "\n",
    "This distribution is from conversation logging for an LLM application. The distribution\n",
    "counts the number of distinct conversations application users have per session. \n",
    "\n",
    "As the application's technical project manager, how should I interpret these results\n",
    "to understand user behavior and identify ways to improve the applicaiton and user\n",
    "experience?\n",
    "\"\"\"\n",
    "\n",
    "textChat_response = textChat_obj.send_message(prompt, **textChat_parameters)\n",
    "\n",
    "print_markdown(textChat_response.text)"
   ]
  },
  {
   "cell_type": "markdown",
   "id": "4e1edf09-cb6c-482a-8a32-6a34f6ff4f91",
   "metadata": {},
   "source": [
    "## Conversation Length\n",
    "This statistic will count the number of messages per each conversation. Note that each question and answer is one message, so dividing the total by two will approximate the number of questions the user asks. These statistics will help understand in more detail how many questions it takes for users to get the answer they need or otherwise abandon the application (when combined with user ratings, to be analyzed later). "
   ]
  },
  {
   "cell_type": "markdown",
   "id": "c0155fb0-c5d0-45f9-b67b-b30510fd70c8",
   "metadata": {},
   "source": [
    "### Ask LLM to Help Generate Code\n",
    "First, we will ask code-bison for help generating Cypher code to produce the conversation length counts."
   ]
  },
  {
   "cell_type": "code",
   "execution_count": 87,
   "id": "e6cc6f41-3168-44f2-b086-9f0061cbdb9a",
   "metadata": {},
   "outputs": [
    {
     "data": {
      "text/markdown": [
       "```cypher\n",
       "MATCH (c:Conversation)-[:FIRST]->(m:Message)\n",
       "WITH c, m, size((m)-[:NEXT*]->()) AS conversation_length\n",
       "SET c.conversation_length = conversation_length\n",
       "RETURN c.conversation_length\n",
       "```"
      ],
      "text/plain": [
       "<IPython.core.display.Markdown object>"
      ]
     },
     "metadata": {},
     "output_type": "display_data"
    }
   ],
   "source": [
    "# request a function from a natural language prompt \n",
    "message_text = \"\"\"\n",
    "I want you to help me write Cypher code for Neo4j.\n",
    "I have the following graph data model:\n",
    "(c:Conversation)-[FIRST]->(:Message)-[NEXT]->(:Message)\n",
    "\n",
    "I want to count the number of total (:Message) nodes connected\n",
    "to each individual (c:Converation) nodes. For each (c:Conversation)\n",
    "the pattern (:Message)-[NEXT]->(:Message) can continue for as long as \n",
    "the user continues ot ask quesitons. \n",
    "\n",
    "Provide Neo4j 5.0 Cypher compliant code to count these (:Message) nodes and set a new \n",
    "parameter on the (c:Conversation) node called 'conversation_length'. \n",
    "\"\"\"\n",
    "\n",
    "codeGen_response = codeGen_model.predict(\n",
    "                        prefix = message_text, \n",
    "                        **codeGen_parameters\n",
    "                    )\n",
    "\n",
    "print_markdown(codeGen_response.text)"
   ]
  },
  {
   "cell_type": "markdown",
   "id": "2a15c8bd-6f2e-41b0-a365-5d0ab7475fe3",
   "metadata": {},
   "source": [
    "### Ask LLM to Help Debug Generated Code\n",
    "The initial code above produced a syntax error when run, so we will ask the codechat-bison model to help debug it. "
   ]
  },
  {
   "cell_type": "code",
   "execution_count": 88,
   "id": "0d342d07-f901-4496-94f8-1152bdc4021a",
   "metadata": {},
   "outputs": [
    {
     "data": {
      "text/markdown": [
       " The error message indicates that the `size()` function is no longer supported inside the `WITH` clause in Neo4j 5.0. \n",
       "\n",
       "To resolve this error, you can replace the `size()` function with the `COUNT()` function, which serves a similar purpose. \n",
       "\n",
       "The corrected Cypher code would be:\n",
       "\n",
       "```\n",
       "MATCH (c:Conversation)-[:FIRST]->(m:Message)\n",
       "WITH c, m, COUNT((m)-[:NEXT*]->()) AS conversation_length\n",
       "SET c.conversation_length = conversation_length\n",
       "RETURN c.conversation_length\n",
       "```"
      ],
      "text/plain": [
       "<IPython.core.display.Markdown object>"
      ]
     },
     "metadata": {},
     "output_type": "display_data"
    }
   ],
   "source": [
    "# make a second request, referencing the first \n",
    "message_text = \"\"\"\n",
    "I have the following graph data model:\n",
    "(c:Conversation)-[FIRST]->(:Message)-[NEXT]->(:Message)\n",
    "\n",
    "My objective is to count the number of (:Message)\n",
    "nodes associated with each (c:Conversation) node in my graph. \n",
    "\n",
    "Help me debug the following Neo4j 5.0 Cypher code,\n",
    "provided between the four #s below:\n",
    "\n",
    "####\n",
    "MATCH (c:Conversation)-[:FIRST]->(m:Message)\n",
    "WITH c, m, size((m)-[:NEXT*]->()) AS conversation_length\n",
    "SET c.conversation_length = conversation_length\n",
    "RETURN c.conversation_length\n",
    "####\n",
    "\n",
    "When I run it I receive the following error from Neo4j:\n",
    "####\n",
    "Neo.ClientError.Statement.SyntaxError\n",
    "A pattern expression should only be used in order to test the existence of a pattern. It can no longer be used inside the function size(), an alternative is to replace size() with COUNT {}. (line 2, column 17 (offset: 61))\n",
    "\"WITH c, m, size((m)-[:NEXT*]->()) AS conversation_length\"\n",
    "###\n",
    "\n",
    "Provide updated, corrected Neo4j 5.0 compliant Cypher code.\n",
    "\"\"\"\n",
    "\n",
    "codeChat_response = codeChat_obj.send_message(\n",
    "    message = message_text, \n",
    "    **codeChat_parameters\n",
    ") \n",
    "\n",
    "print_markdown(codeChat_response.text)"
   ]
  },
  {
   "cell_type": "code",
   "execution_count": 89,
   "id": "aa164e21-e6b3-4672-9c15-838b3b29c1bd",
   "metadata": {},
   "outputs": [
    {
     "data": {
      "text/markdown": [
       " Here is an alternative approach to achieve your objective using Neo4j 5.0 compliant Cypher code:\n",
       "\n",
       "```\n",
       "MATCH (c:Conversation)-[:FIRST]->(m:Message)\n",
       "WITH c, m\n",
       "CALL {\n",
       "  WITH m, c\n",
       "  MATCH (m)-[:NEXT*]->(n)\n",
       "  RETURN COUNT(n) AS conversation_length\n",
       "}\n",
       "SET c.conversation_length = conversation_length\n",
       "RETURN c.conversation_length\n",
       "```\n",
       "\n",
       "This code uses a combination of the `WITH` clause and a `CALL` statement to achieve the desired result. \n",
       "\n",
       "The `WITH` clause is used to pass the `c` and `m` nodes to the `CALL` statement. \n",
       "\n",
       "The `CALL` statement then executes a subquery that calculates the number of `(:Message)` nodes associated with each `(c:Conversation)` node. \n",
       "\n",
       "The result of the subquery is then assigned to the `conversation_length` property of the `c` node."
      ],
      "text/plain": [
       "<IPython.core.display.Markdown object>"
      ]
     },
     "metadata": {},
     "output_type": "display_data"
    }
   ],
   "source": [
    "# make a second request, referencing the first \n",
    "message_text = \"\"\"\n",
    "The updated code also returns a similar error when I attempt to run it.\n",
    "\n",
    "####\n",
    "Neo.ClientError.Statement.SyntaxError\n",
    "A pattern expression should only be used in order to test the existence of a pattern. It should therefore only be used in contexts that evaluate to a boolean, e.g. inside the function exists() or in a WHERE-clause. No other uses are allowed, instead they should be replaced by a pattern comprehension. (line 2, column 18 (offset: 62))\n",
    "\"WITH c, m, COUNT((m)-[:NEXT*]->()) AS conversation_length\"\n",
    "###\n",
    "\n",
    "Is there an alternative approach to achieve my objective?\n",
    "Please provide Neo4j 5.0 compliant Cypher code that accomplishes this in another way.\n",
    "\"\"\"\n",
    "\n",
    "codeChat_response = codeChat_obj.send_message(\n",
    "    message = message_text, \n",
    "    **codeChat_parameters\n",
    ") \n",
    "\n",
    "print_markdown(codeChat_response.text)"
   ]
  },
  {
   "cell_type": "code",
   "execution_count": 91,
   "id": "d9bd2c28-3a7d-4b6e-8603-458ec4c81111",
   "metadata": {},
   "outputs": [
    {
     "data": {
      "text/markdown": [
       " Here is an updated version of the code that includes the count of the first (m:Message) node:\n",
       "\n",
       "```\n",
       "MATCH (c:Conversation)-[:FIRST]->(m:Message)\n",
       "WITH c, m\n",
       "CALL {\n",
       "  WITH m, c\n",
       "  MATCH (m)-[:NEXT*]->(n)\n",
       "  RETURN COUNT(n) + 1 AS conversation_length\n",
       "}\n",
       "SET c.conversation_length = conversation_length\n",
       "RETURN c.conversation_length\n",
       "```\n",
       "\n",
       "The updated code adds 1 to the count of the (m:Message) nodes to include the first node in the count."
      ],
      "text/plain": [
       "<IPython.core.display.Markdown object>"
      ]
     },
     "metadata": {},
     "output_type": "display_data"
    }
   ],
   "source": [
    "# final udpate to the code \n",
    "message_text = \"\"\"\n",
    "The updated code appears to be running, but it is missing the count\n",
    "of total conversations by 1 because it does not include the first \n",
    "(m:Message) node. Can you provide updated code so that it counts\n",
    "all (m:Message) nodes including the first?\n",
    "\"\"\"\n",
    "\n",
    "codeChat_response = codeChat_obj.send_message(\n",
    "    message = message_text, \n",
    "    **codeChat_parameters\n",
    ") \n",
    "\n",
    "print_markdown(codeChat_response.text)"
   ]
  },
  {
   "cell_type": "markdown",
   "id": "a2e28e6d-6ac6-43b4-a181-bbfb401e360e",
   "metadata": {},
   "source": [
    "### Run the Code to Generate Statistics"
   ]
  },
  {
   "cell_type": "code",
   "execution_count": 90,
   "id": "af887ed8-7cec-4e8b-8a40-7c7a4f27066c",
   "metadata": {},
   "outputs": [
    {
     "data": {
      "text/html": [
       "<div>\n",
       "<style scoped>\n",
       "    .dataframe tbody tr th:only-of-type {\n",
       "        vertical-align: middle;\n",
       "    }\n",
       "\n",
       "    .dataframe tbody tr th {\n",
       "        vertical-align: top;\n",
       "    }\n",
       "\n",
       "    .dataframe thead th {\n",
       "        text-align: right;\n",
       "    }\n",
       "</style>\n",
       "<table border=\"1\" class=\"dataframe\">\n",
       "  <thead>\n",
       "    <tr style=\"text-align: right;\">\n",
       "      <th></th>\n",
       "    </tr>\n",
       "  </thead>\n",
       "  <tbody>\n",
       "  </tbody>\n",
       "</table>\n",
       "</div>"
      ],
      "text/plain": [
       "Empty DataFrame\n",
       "Columns: []\n",
       "Index: []"
      ]
     },
     "execution_count": 90,
     "metadata": {},
     "output_type": "execute_result"
    }
   ],
   "source": [
    "# create new property on Conversation nodes\n",
    "gds.run_cypher('''\n",
    "MATCH (c:Conversation)-[:FIRST]->(m:Message)\n",
    "WITH c, m\n",
    "CALL {\n",
    "  WITH m, c\n",
    "  MATCH (m)-[:NEXT*]->(n)\n",
    "  RETURN COUNT(n) + 1 AS conversation_length\n",
    "}\n",
    "SET c.conversation_length = conversation_length\n",
    "RETURN c.conversation_length\n",
    "''') "
   ]
  },
  {
   "cell_type": "markdown",
   "id": "caf62fee-1646-40f5-a640-95bc5423f460",
   "metadata": {},
   "source": [
    "### Analyze Statistics"
   ]
  },
  {
   "cell_type": "code",
   "execution_count": 98,
   "id": "2ae051ee-1f03-4e81-8cd6-f1434e9aac94",
   "metadata": {},
   "outputs": [
    {
     "data": {
      "text/plain": [
       "(95, 2)"
      ]
     },
     "execution_count": 98,
     "metadata": {},
     "output_type": "execute_result"
    }
   ],
   "source": [
    "# generate dataframe for each conversation length \n",
    "conversation_lengths = gds.run_cypher('''\n",
    "MATCH (c:Conversation)\n",
    "RETURN \n",
    "    c.id AS id,\n",
    "    c.conversation_length AS conversation_length\n",
    "''')\n",
    "\n",
    "conversation_lengths.shape"
   ]
  },
  {
   "cell_type": "code",
   "execution_count": 99,
   "id": "b4cb9eea-a10a-4b25-b51e-19a793f99ebb",
   "metadata": {},
   "outputs": [
    {
     "data": {
      "text/plain": [
       "count    95.0\n",
       "mean      5.0\n",
       "std       4.0\n",
       "min       1.0\n",
       "25%       2.0\n",
       "50%       4.0\n",
       "75%       6.0\n",
       "90%      10.0\n",
       "95%      13.0\n",
       "99%      18.0\n",
       "99.9%    23.0\n",
       "max      24.0\n",
       "Name: conversation_length, dtype: float64"
      ]
     },
     "execution_count": 99,
     "metadata": {},
     "output_type": "execute_result"
    }
   ],
   "source": [
    "# generate distribution for conversation lengths \n",
    "convo_len_dist = conversation_lengths['conversation_length'].describe(percentiles=[0.25, 0.5, 0.75, 0.9, 0.95, 0.99, 0.999]).round()\n",
    "convo_len_dist"
   ]
  },
  {
   "cell_type": "code",
   "execution_count": 100,
   "id": "f2fd8358-5fc3-4afe-8e7f-bd1071195167",
   "metadata": {},
   "outputs": [
    {
     "data": {
      "image/png": "[encoded data removed]",
      "text/plain": [
       "<Figure size 640x480 with 1 Axes>"
      ]
     },
     "metadata": {},
     "output_type": "display_data"
    }
   ],
   "source": [
    "# plot conversation lengths \n",
    "sns.histplot(data=conversation_lengths, x='conversation_length')\n",
    "plt.title('Distribution of Conversation Lengths')\n",
    "plt.show()"
   ]
  },
  {
   "cell_type": "markdown",
   "id": "a415a92a-1bd5-48ec-921b-2744049a1fc1",
   "metadata": {},
   "source": [
    "### Ask LLM for Interpretation"
   ]
  },
  {
   "cell_type": "code",
   "execution_count": 101,
   "id": "72523ada-5219-4261-a2d7-4f28c3418d8c",
   "metadata": {},
   "outputs": [
    {
     "data": {
      "text/markdown": [
       " The conversation length distribution shows that the majority of conversations (95%) are 10 or fewer messages long, with the average conversation length being 5 messages. This indicates that users are generally having short, concise conversations with the LLM. \n",
       "\n",
       "This could be interpreted in a few ways. One possibility is that users are finding the LLM to be helpful and informative, and are able to get their questions answered quickly and easily. Another possibility is that users are not finding the LLM to be engaging enough to have longer conversations. \n",
       "\n",
       "To improve the application and user experience, you could consider ways to make the LLM more engaging and helpful to users. This could include adding new features, improving the LLM's knowledge base, or providing more relevant content. You could also consider ways to encourage users to have longer conversations, such as by offering incentives or rewards."
      ],
      "text/plain": [
       "<IPython.core.display.Markdown object>"
      ]
     },
     "metadata": {},
     "output_type": "display_data"
    }
   ],
   "source": [
    "# ask ChatBison for its interpretation of the conversation length distribution \n",
    "prompt = f\"\"\"\n",
    "Continuing the conversation, help me interpret the results of the Conversation Length\n",
    "Distribution, which is the length of each individual conversation a user has\n",
    "with the LLM in the application.\n",
    "\n",
    "The conversation length distribution is in the following object: {convo_len_dist}\n",
    "\n",
    "As the application technical project manager, how should I interpret these results?\n",
    "What might they indicate for the quality of the application and how we might improve it?\n",
    "\"\"\"\n",
    "\n",
    "textChat_response = textChat_obj.send_message(prompt, **textChat_parameters)\n",
    "\n",
    "print_markdown(textChat_response.text)"
   ]
  },
  {
   "cell_type": "markdown",
   "id": "cbedb6e6-1ca5-45f8-abce-dc161a0fbea0",
   "metadata": {},
   "source": [
    "### Interpret both Statistical Distributions Together\n",
    "Finally, we will leverage the 'memory' in the chat object to have the LLM analyze both distributions together to see if it produces new insights. "
   ]
  },
  {
   "cell_type": "code",
   "execution_count": 102,
   "id": "c9f298c6-0f53-4b9f-b25e-a4590684dcd9",
   "metadata": {},
   "outputs": [
    {
     "data": {
      "text/markdown": [
       " Taken together, the conversation length distribution and the prior session conversation distribution provide insights into how users are interacting with the LLM application. \n",
       "\n",
       "The conversation length distribution shows that the majority of conversations are short, with the average conversation length being 5 messages. This suggests that users are generally using the LLM to ask quick questions or get brief information. \n",
       "\n",
       "The prior session conversation distribution shows that the majority of users (69%) have only one conversation per session. This suggests that users are not returning to the application for multiple conversations. \n",
       "\n",
       "These two distributions could be interpreted in a few ways. One possibility is that users are not finding the LLM application to be engaging enough to have multiple conversations. Another possibility is that the LLM is not providing users with enough value to warrant multiple conversations. \n",
       "\n",
       "To improve the application and user experience, you could consider ways to make the LLM more engaging and valuable to users. This could include adding new features, improving the LLM's knowledge base, or providing more relevant content. You could also consider ways to encourage users to have multiple conversations, such as by offering incentives or rewards."
      ],
      "text/plain": [
       "<IPython.core.display.Markdown object>"
      ]
     },
     "metadata": {},
     "output_type": "display_data"
    }
   ],
   "source": [
    "prompt = f\"\"\"\n",
    "How should I interpret the conversation length distribution along with the \n",
    "prior session conversation distribution?\n",
    "\"\"\"\n",
    "\n",
    "textChat_response = textChat_obj.send_message(prompt, **textChat_parameters)\n",
    "\n",
    "print_markdown(textChat_response.text)"
   ]
  },
  {
   "cell_type": "code",
   "execution_count": null,
   "id": "65f037d0-bfd0-47cd-8ff4-d4de3cc288f9",
   "metadata": {},
   "outputs": [],
   "source": []
  }
 ],
 "metadata": {
  "environment": {
   "kernel": "python3",
   "name": "tf2-gpu.2-12.m109",
   "type": "gcloud",
   "uri": "gcr.io/deeplearning-platform-release/tf2-gpu.2-12:m109"
  },
  "kernelspec": {
   "display_name": "Python 3",
   "language": "python",
   "name": "python3"
  },
  "language_info": {
   "codemirror_mode": {
    "name": "ipython",
    "version": 3
   },
   "file_extension": ".py",
   "mimetype": "text/x-python",
   "name": "python",
   "nbconvert_exporter": "python",
   "pygments_lexer": "ipython3",
   "version": "3.10.11"
  }
 },
 "nbformat": 4,
 "nbformat_minor": 5
}
